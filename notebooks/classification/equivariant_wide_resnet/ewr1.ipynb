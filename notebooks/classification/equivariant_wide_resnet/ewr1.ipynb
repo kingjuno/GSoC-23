{
 "cells": [
  {
   "attachments": {},
   "cell_type": "markdown",
   "id": "28a9bc22",
   "metadata": {
    "papermill": {
     "duration": 0.004836,
     "end_time": "2023-02-26T18:20:33.518827",
     "exception": false,
     "start_time": "2023-02-26T18:20:33.513991",
     "status": "completed"
    },
    "tags": []
   },
   "source": [
    "# C8Steerable CNN\n"
   ]
  },
  {
   "cell_type": "code",
   "execution_count": null,
   "id": "4913b545",
   "metadata": {
    "execution": {
     "iopub.execute_input": "2023-06-13T10:16:18.740355Z",
     "iopub.status.busy": "2023-06-13T10:16:18.740090Z",
     "iopub.status.idle": "2023-06-13T10:18:44.639886Z",
     "shell.execute_reply": "2023-06-13T10:18:44.638559Z"
    }
   },
   "outputs": [],
   "source": [
    "try:\n",
    "    done\n",
    "except:\n",
    "    import os\n",
    "\n",
    "    os.chdir(\"../../../\")\n",
    "    from utils.download import download\n",
    "    from utils.extract import extract\n",
    "\n",
    "    args = {\"model\": \"Model-1\"}\n",
    "    download(args)\n",
    "    extract(\"data/Model_I.tgz\", \"data/\")\n",
    "    extract(\"data/Model_I_test.tgz\", \"data/\")\n",
    "    done = True"
   ]
  },
  {
   "cell_type": "code",
   "execution_count": null,
   "id": "7db64282",
   "metadata": {
    "_cell_guid": "b1076dfc-b9ad-4769-8c92-a6c4dae69d19",
    "_uuid": "8f2839f25d086af736a60e9eeb907d3b93b6e0e5",
    "execution": {
     "iopub.execute_input": "2023-06-13T10:18:44.645708Z",
     "iopub.status.busy": "2023-06-13T10:18:44.645267Z",
     "iopub.status.idle": "2023-06-13T10:18:48.529105Z",
     "shell.execute_reply": "2023-06-13T10:18:48.528261Z"
    },
    "papermill": {
     "duration": 4.22969,
     "end_time": "2023-02-26T18:20:37.753361",
     "exception": false,
     "start_time": "2023-02-26T18:20:33.523671",
     "status": "completed"
    },
    "tags": []
   },
   "outputs": [],
   "source": [
    "import gc\n",
    "import copy\n",
    "import warnings\n",
    "\n",
    "import matplotlib.pyplot as plt\n",
    "import numpy as np\n",
    "import torch\n",
    "import torch.optim as optim\n",
    "import torchvision.datasets as datasets\n",
    "import torchvision.transforms as transforms\n",
    "\n",
    "from itertools import cycle\n",
    "from PIL import Image\n",
    "from sklearn.metrics import (\n",
    "    auc,\n",
    "    confusion_matrix,\n",
    "    ConfusionMatrixDisplay,\n",
    "    roc_auc_score,\n",
    "    roc_curve,\n",
    ")\n",
    "from torch import optim\n",
    "from torch.utils.data import DataLoader\n",
    "from torchvision import datasets, transforms\n",
    "\n",
    "\n",
    "from tqdm import tqdm\n",
    "\n",
    "warnings.filterwarnings(\"ignore\")"
   ]
  },
  {
   "attachments": {},
   "cell_type": "markdown",
   "id": "8b7df613",
   "metadata": {
    "papermill": {
     "duration": 0.00477,
     "end_time": "2023-02-26T18:20:37.763344",
     "exception": false,
     "start_time": "2023-02-26T18:20:37.758574",
     "status": "completed"
    },
    "tags": []
   },
   "source": [
    "# Data Preparation\n"
   ]
  },
  {
   "cell_type": "code",
   "execution_count": null,
   "id": "98c728a5",
   "metadata": {
    "execution": {
     "iopub.execute_input": "2023-06-13T10:18:48.532903Z",
     "iopub.status.busy": "2023-06-13T10:18:48.532458Z",
     "iopub.status.idle": "2023-06-13T10:18:48.538429Z",
     "shell.execute_reply": "2023-06-13T10:18:48.537771Z"
    }
   },
   "outputs": [],
   "source": [
    "train_transforms = transforms.Compose([\n",
    "    transforms.RandomRotation(180),\n",
    "    transforms.ColorJitter(brightness=(0.8, 1.2)),\n",
    "    transforms.Resize(128),\n",
    "    transforms.Grayscale(num_output_channels=1),\n",
    "    transforms.ToTensor()\n",
    "])\n",
    "\n",
    "test_transforms = transforms.Compose([\n",
    "    transforms.Resize(128),\n",
    "    transforms.Grayscale(num_output_channels=1),\n",
    "    transforms.ToTensor()\n",
    "])"
   ]
  },
  {
   "cell_type": "code",
   "execution_count": null,
   "id": "e11b8596",
   "metadata": {
    "execution": {
     "iopub.execute_input": "2023-06-13T10:18:48.541245Z",
     "iopub.status.busy": "2023-06-13T10:18:48.540971Z",
     "iopub.status.idle": "2023-06-13T10:18:49.056707Z",
     "shell.execute_reply": "2023-06-13T10:18:49.055740Z"
    },
    "papermill": {
     "duration": 0.018594,
     "end_time": "2023-02-26T18:20:37.786759",
     "exception": false,
     "start_time": "2023-02-26T18:20:37.768165",
     "status": "completed"
    },
    "tags": []
   },
   "outputs": [],
   "source": [
    "def npy_loader(path):\n",
    "    if 'axion' in path:\n",
    "        sample = np.load(path, allow_pickle=True)[0]\n",
    "    else:\n",
    "        sample = np.load(path, allow_pickle=True)\n",
    "    sample = 255 * (sample / sample.max())\n",
    "    sample = Image.fromarray(sample.astype('uint8')).convert(\"RGB\")\n",
    "    return sample\n",
    "    \n",
    "\n",
    "trainset = datasets.DatasetFolder(\n",
    "    root='data/Model_I',\n",
    "    loader=npy_loader,\n",
    "    extensions=['.npy'],\n",
    "    transform = train_transforms\n",
    ")\n",
    "\n",
    "testset = datasets.DatasetFolder(\n",
    "    root='data/Model_I_test',\n",
    "    loader=npy_loader,\n",
    "    extensions=['.npy'],\n",
    "    transform = test_transforms\n",
    ")\n",
    "\n",
    "train_loader = torch.utils.data.DataLoader(trainset, batch_size=32,shuffle=True,\n",
    "                                           pin_memory = True)\n",
    "test_loader = torch.utils.data.DataLoader(testset, batch_size=16,shuffle=True)"
   ]
  },
  {
   "cell_type": "code",
   "execution_count": null,
   "id": "c541bb71",
   "metadata": {
    "execution": {
     "iopub.execute_input": "2023-06-13T10:18:49.060420Z",
     "iopub.status.busy": "2023-06-13T10:18:49.060061Z",
     "iopub.status.idle": "2023-06-13T10:18:49.102894Z",
     "shell.execute_reply": "2023-06-13T10:18:49.102174Z"
    },
    "papermill": {
     "duration": 0.288414,
     "end_time": "2023-02-26T18:20:38.079912",
     "exception": false,
     "start_time": "2023-02-26T18:20:37.791498",
     "status": "completed"
    },
    "tags": []
   },
   "outputs": [],
   "source": [
    "lr = 0.0001\n",
    "epochs = 10\n",
    "gamma = 0.7\n",
    "device = \"cuda\" if torch.cuda.is_available() else \"cpu\""
   ]
  },
  {
   "attachments": {},
   "cell_type": "markdown",
   "id": "337703e9",
   "metadata": {
    "papermill": {
     "duration": 0.005167,
     "end_time": "2023-02-26T18:20:38.096424",
     "exception": false,
     "start_time": "2023-02-26T18:20:38.091257",
     "status": "completed"
    },
    "tags": []
   },
   "source": [
    "# Model\n"
   ]
  },
  {
   "cell_type": "code",
   "execution_count": null,
   "id": "e7b978f6",
   "metadata": {
    "execution": {
     "iopub.execute_input": "2023-06-13T10:18:49.105880Z",
     "iopub.status.busy": "2023-06-13T10:18:49.105594Z",
     "iopub.status.idle": "2023-06-13T10:19:04.364453Z",
     "shell.execute_reply": "2023-06-13T10:19:04.363113Z"
    },
    "papermill": {
     "duration": 0.028747,
     "end_time": "2023-02-26T18:20:38.130529",
     "exception": false,
     "start_time": "2023-02-26T18:20:38.101782",
     "status": "completed"
    },
    "tags": []
   },
   "outputs": [],
   "source": [
    "from models import WRN\n",
    "\n",
    "model = WRN(\n",
    "    depth = 10, \n",
    "    widen_factor = 10, \n",
    "    dropout_rate = 0.3, \n",
    "    initial_stride=1, \n",
    "    N=8, \n",
    "    f=True, \n",
    "    r=0, \n",
    "    num_classes=3\n",
    ").to(device)\n",
    "\n",
    "criterion = torch.nn.CrossEntropyLoss()\n",
    "optimizer = optim.Adam(model.parameters(), lr=lr)\n",
    "scheduler = optim.lr_scheduler.StepLR(optimizer, step_size=5, gamma=gamma)"
   ]
  },
  {
   "attachments": {},
   "cell_type": "markdown",
   "id": "6d5d9ce7",
   "metadata": {
    "papermill": {
     "duration": 0.004681,
     "end_time": "2023-02-26T18:20:49.389497",
     "exception": false,
     "start_time": "2023-02-26T18:20:49.384816",
     "status": "completed"
    },
    "tags": []
   },
   "source": [
    "# Training\n"
   ]
  },
  {
   "cell_type": "code",
   "execution_count": null,
   "id": "b6bd0abb",
   "metadata": {
    "execution": {
     "iopub.execute_input": "2023-06-13T10:19:04.369105Z",
     "iopub.status.busy": "2023-06-13T10:19:04.368412Z",
     "iopub.status.idle": "2023-06-13T13:57:15.107773Z",
     "shell.execute_reply": "2023-06-13T13:57:15.106918Z"
    },
    "papermill": {
     "duration": 1134.918433,
     "end_time": "2023-02-26T18:39:44.312733",
     "exception": false,
     "start_time": "2023-02-26T18:20:49.394300",
     "status": "completed"
    },
    "tags": []
   },
   "outputs": [],
   "source": [
    "all_train_loss = []\n",
    "all_test_loss = []\n",
    "all_train_accuracy = []\n",
    "all_test_accuracy = []\n",
    "\n",
    "best_accuracy = 0\n",
    "\n",
    "for epoch in range(epochs):\n",
    "    epoch_loss = 0\n",
    "    epoch_accuracy = 0\n",
    "    correct, total = 0, 0\n",
    "    model.train()\n",
    "    tr_loss_epoch = []\n",
    "    test_loss_epoch = []\n",
    "    _ep = 0\n",
    "    for data, label in tqdm(train_loader):\n",
    "        if _ep%100 == 0:\n",
    "            torch.cuda.empty_cache()\n",
    "            gc.collect()\n",
    "        data = data.to(device)\n",
    "        label = label.to(device)\n",
    "\n",
    "        output = model(data)\n",
    "        loss = criterion(output, label)\n",
    "        tr_loss_epoch.append(loss.item())\n",
    "        optimizer.zero_grad()\n",
    "        loss.backward()\n",
    "        optimizer.step()\n",
    "        acc = (output.argmax(dim=1) == label).sum()\n",
    "        correct += acc.item()\n",
    "        total += len(label)\n",
    "\n",
    "        epoch_loss += loss / len(train_loader)\n",
    "    scheduler.step()\n",
    "    all_train_loss.append(np.asarray(tr_loss_epoch))\n",
    "    all_train_accuracy.append(correct / total * 100)\n",
    "    epoch_accuracy = (correct / total) * 100\n",
    "    correct, total = 0, 0\n",
    "\n",
    "    torch.cuda.empty_cache()\n",
    "    with torch.no_grad():\n",
    "        epoch_val_accuracy = 0\n",
    "        epoch_val_loss = 0\n",
    "        for data, label in tqdm(test_loader):\n",
    "            data = data.to(device)\n",
    "            label = label.to(device)\n",
    "\n",
    "            val_output = model(data)\n",
    "            val_loss = criterion(val_output, label)\n",
    "            test_loss_epoch.append(val_loss.item())\n",
    "            acc = (val_output.argmax(dim=1) == label).sum()\n",
    "            correct += acc.item()\n",
    "            total += len(label)\n",
    "\n",
    "            epoch_val_loss += val_loss / len(test_loader)\n",
    "        all_test_loss.append(np.asarray(test_loss_epoch))\n",
    "        all_test_accuracy.append(correct / total * 100)\n",
    "    epoch_val_accuracy = (correct / total) * 100\n",
    "\n",
    "    if epoch_val_accuracy > best_accuracy:\n",
    "        best_accuracy = epoch_val_accuracy\n",
    "        best_model = copy.deepcopy(model)\n",
    "\n",
    "    print(\n",
    "        f\"Epoch : {epoch+1} - loss : {epoch_loss:.4f} - acc: {epoch_accuracy:.4f}% - val_loss : {epoch_val_loss:.4f} - val_acc: {epoch_val_accuracy:.4f}%\"\n",
    "    )\n",
    "torch.save(best_model.state_dict(), \"equi_nn.pth\")\n",
    "all_train_loss_mean = [j.mean() for j in all_train_loss]\n",
    "all_test_loss_mean = [j.mean() for j in all_test_loss]"
   ]
  },
  {
   "attachments": {},
   "cell_type": "markdown",
   "id": "c6ed3fe3",
   "metadata": {
    "papermill": {
     "duration": 0.088846,
     "end_time": "2023-02-26T18:39:44.489827",
     "exception": false,
     "start_time": "2023-02-26T18:39:44.400981",
     "status": "completed"
    },
    "tags": []
   },
   "source": [
    "# Plotting Loss and Accuracy\n"
   ]
  },
  {
   "cell_type": "code",
   "execution_count": null,
   "id": "63766ee9",
   "metadata": {
    "execution": {
     "iopub.execute_input": "2023-06-13T13:57:15.111518Z",
     "iopub.status.busy": "2023-06-13T13:57:15.111206Z",
     "iopub.status.idle": "2023-06-13T13:57:15.950565Z",
     "shell.execute_reply": "2023-06-13T13:57:15.949925Z"
    },
    "papermill": {
     "duration": 0.608392,
     "end_time": "2023-02-26T18:39:45.185365",
     "exception": false,
     "start_time": "2023-02-26T18:39:44.576973",
     "status": "completed"
    },
    "tags": []
   },
   "outputs": [],
   "source": [
    "figure = plt.figure(figsize=(12, 8))\n",
    "cols, rows = 2, 2\n",
    "figure.add_subplot(rows, cols, 1)\n",
    "plt.title(\"Train loss Mean\")\n",
    "plt.plot(all_train_loss_mean)\n",
    "figure.add_subplot(rows, cols, 2)\n",
    "plt.title(\"Test loss Mean\")\n",
    "plt.plot(all_test_loss_mean)\n",
    "figure.add_subplot(rows, cols, 3)\n",
    "plt.title(\"Train accuracy Mean\")\n",
    "plt.plot(all_train_accuracy)\n",
    "figure.add_subplot(rows, cols, 4)\n",
    "plt.title(\"Test accuracy Mean\")\n",
    "plt.plot(all_test_accuracy)"
   ]
  },
  {
   "attachments": {},
   "cell_type": "markdown",
   "id": "71719fa2",
   "metadata": {
    "papermill": {
     "duration": 0.097537,
     "end_time": "2023-02-26T18:39:45.372772",
     "exception": false,
     "start_time": "2023-02-26T18:39:45.275235",
     "status": "completed"
    },
    "tags": []
   },
   "source": [
    "# Loading Best Model\n"
   ]
  },
  {
   "cell_type": "code",
   "execution_count": null,
   "id": "d07b2629",
   "metadata": {
    "execution": {
     "iopub.execute_input": "2023-06-13T13:57:15.953532Z",
     "iopub.status.busy": "2023-06-13T13:57:15.953250Z",
     "iopub.status.idle": "2023-06-13T13:57:31.051799Z",
     "shell.execute_reply": "2023-06-13T13:57:31.051231Z"
    },
    "papermill": {
     "duration": 0.167712,
     "end_time": "2023-02-26T18:39:45.629158",
     "exception": false,
     "start_time": "2023-02-26T18:39:45.461446",
     "status": "completed"
    },
    "tags": []
   },
   "outputs": [],
   "source": [
    "model = WRN(\n",
    "    depth = 10, \n",
    "    widen_factor = 4, \n",
    "    dropout_rate = 0.3, \n",
    "    initial_stride=1, \n",
    "    N=8, \n",
    "    f=True, \n",
    "    r=0, \n",
    "    num_classes=3\n",
    ").to(device)\n",
    "model.load_state_dict(torch.load(\"equi_nn.pth\"), strict=False)"
   ]
  },
  {
   "attachments": {},
   "cell_type": "markdown",
   "id": "4e685329",
   "metadata": {
    "papermill": {
     "duration": 0.088101,
     "end_time": "2023-02-26T18:39:45.807045",
     "exception": false,
     "start_time": "2023-02-26T18:39:45.718944",
     "status": "completed"
    },
    "tags": []
   },
   "source": [
    "# Testing\n"
   ]
  },
  {
   "cell_type": "code",
   "execution_count": null,
   "id": "99b12bcf",
   "metadata": {
    "execution": {
     "iopub.execute_input": "2023-06-13T13:57:31.054906Z",
     "iopub.status.busy": "2023-06-13T13:57:31.054611Z",
     "iopub.status.idle": "2023-06-13T13:58:29.204625Z",
     "shell.execute_reply": "2023-06-13T13:58:29.203790Z"
    },
    "papermill": {
     "duration": 4.256545,
     "end_time": "2023-02-26T18:39:50.151060",
     "exception": false,
     "start_time": "2023-02-26T18:39:45.894515",
     "status": "completed"
    },
    "tags": []
   },
   "outputs": [],
   "source": [
    "true_label, pred_label, pred_score, one_hot = [], [], [], []\n",
    "with torch.no_grad():\n",
    "    model.eval()\n",
    "    for i, (x, y) in enumerate(tqdm(test_loader)):\n",
    "        x = x.to(device)\n",
    "        y = y.to(device)\n",
    "        _y = model(x)\n",
    "\n",
    "        _, pred = torch.max(_y.data, 1)\n",
    "        true_label += y.tolist()\n",
    "        pred_label += pred.tolist()\n",
    "        pred_score += _y.tolist()\n",
    "        one_hot += np.eye(3)[y.cpu().numpy()].tolist()"
   ]
  },
  {
   "attachments": {},
   "cell_type": "markdown",
   "id": "ddda1893",
   "metadata": {
    "papermill": {
     "duration": 0.138248,
     "end_time": "2023-02-26T18:39:50.468855",
     "exception": false,
     "start_time": "2023-02-26T18:39:50.330607",
     "status": "completed"
    },
    "tags": []
   },
   "source": [
    "# Confusion Matrix\n"
   ]
  },
  {
   "cell_type": "code",
   "execution_count": null,
   "id": "063eed06",
   "metadata": {
    "execution": {
     "iopub.execute_input": "2023-06-13T13:58:29.208020Z",
     "iopub.status.busy": "2023-06-13T13:58:29.207717Z",
     "iopub.status.idle": "2023-06-13T13:58:29.449944Z",
     "shell.execute_reply": "2023-06-13T13:58:29.449325Z"
    },
    "papermill": {
     "duration": 0.389642,
     "end_time": "2023-02-26T18:39:50.975049",
     "exception": false,
     "start_time": "2023-02-26T18:39:50.585407",
     "status": "completed"
    },
    "tags": []
   },
   "outputs": [],
   "source": [
    "ConfusionMatrixDisplay(confusion_matrix=confusion_matrix(true_label, pred_label)).plot()"
   ]
  },
  {
   "attachments": {},
   "cell_type": "markdown",
   "id": "6d00ac58",
   "metadata": {
    "papermill": {
     "duration": 0.144227,
     "end_time": "2023-02-26T18:39:51.259566",
     "exception": false,
     "start_time": "2023-02-26T18:39:51.115339",
     "status": "completed"
    },
    "tags": []
   },
   "source": [
    "# AUC Score\n"
   ]
  },
  {
   "cell_type": "code",
   "execution_count": null,
   "id": "13effc9c",
   "metadata": {
    "execution": {
     "iopub.execute_input": "2023-06-13T13:58:29.452825Z",
     "iopub.status.busy": "2023-06-13T13:58:29.452548Z",
     "iopub.status.idle": "2023-06-13T13:58:29.456678Z",
     "shell.execute_reply": "2023-06-13T13:58:29.456063Z"
    },
    "papermill": {
     "duration": 0.100354,
     "end_time": "2023-02-26T18:39:51.456098",
     "exception": false,
     "start_time": "2023-02-26T18:39:51.355744",
     "status": "completed"
    },
    "tags": []
   },
   "outputs": [],
   "source": [
    "def softmax(x):\n",
    "    \"\"\"Compute softmax values for each sets of scores in x.\"\"\"\n",
    "    e_x = np.exp(x - np.max(x))\n",
    "    return e_x / e_x.sum()"
   ]
  },
  {
   "cell_type": "code",
   "execution_count": null,
   "id": "47a6eea8",
   "metadata": {
    "execution": {
     "iopub.execute_input": "2023-06-13T13:58:29.459317Z",
     "iopub.status.busy": "2023-06-13T13:58:29.459068Z",
     "iopub.status.idle": "2023-06-13T13:58:29.752110Z",
     "shell.execute_reply": "2023-06-13T13:58:29.751448Z"
    },
    "papermill": {
     "duration": 0.105775,
     "end_time": "2023-02-26T18:39:51.653525",
     "exception": false,
     "start_time": "2023-02-26T18:39:51.547750",
     "status": "completed"
    },
    "tags": []
   },
   "outputs": [],
   "source": [
    "roc_auc_score(np.array(true_label),[softmax(i) for i in np.array(pred_score)], multi_class='ovr')"
   ]
  },
  {
   "attachments": {},
   "cell_type": "markdown",
   "id": "1bccb6bc",
   "metadata": {
    "papermill": {
     "duration": 0.089421,
     "end_time": "2023-02-26T18:39:51.834655",
     "exception": false,
     "start_time": "2023-02-26T18:39:51.745234",
     "status": "completed"
    },
    "tags": []
   },
   "source": [
    "# ROC-CURVE\n"
   ]
  },
  {
   "cell_type": "code",
   "execution_count": null,
   "id": "0396ebf0",
   "metadata": {
    "execution": {
     "iopub.execute_input": "2023-06-13T13:58:29.755081Z",
     "iopub.status.busy": "2023-06-13T13:58:29.754798Z",
     "iopub.status.idle": "2023-06-13T13:58:30.079350Z",
     "shell.execute_reply": "2023-06-13T13:58:30.078771Z"
    },
    "papermill": {
     "duration": 0.313634,
     "end_time": "2023-02-26T18:39:52.237506",
     "exception": false,
     "start_time": "2023-02-26T18:39:51.923872",
     "status": "completed"
    },
    "tags": []
   },
   "outputs": [],
   "source": [
    "fpr = dict()\n",
    "tpr = dict()\n",
    "roc_auc = dict()\n",
    "lw=2\n",
    "for i in range(3):\n",
    "    fpr[i], tpr[i], _ = roc_curve(np.array(one_hot)[:, i], np.array(pred_score)[:, i])\n",
    "    roc_auc[i] = auc(fpr[i], tpr[i])\n",
    "colors = cycle(['blue', 'red', 'green'])\n",
    "for i, color in zip(range(3), colors):\n",
    "    plt.plot(fpr[i], tpr[i], color=color, lw=2,\n",
    "             label='ROC curve of class {0} (area = {1:0.6f})'\n",
    "             ''.format(i, roc_auc[i]))\n",
    "plt.plot([0, 1], [0, 1], 'k--', lw=lw)\n",
    "plt.xlim([-0.05, 1.0])\n",
    "plt.ylim([0.0, 1.05])\n",
    "plt.xlabel('False Positive Rate')\n",
    "plt.ylabel('True Positive Rate')\n",
    "plt.title('Receiver operating characteristic for multi-class data')\n",
    "plt.legend(loc=\"lower right\")\n",
    "plt.show()"
   ]
  }
 ],
 "metadata": {
  "kernelspec": {
   "display_name": "Python 3 (ipykernel)",
   "language": "python",
   "name": "python3"
  },
  "language_info": {
   "codemirror_mode": {
    "name": "ipython",
    "version": 3
   },
   "file_extension": ".py",
   "mimetype": "text/x-python",
   "name": "python",
   "nbconvert_exporter": "python",
   "pygments_lexer": "ipython3",
   "version": "3.10.10"
  },
  "papermill": {
   "default_parameters": {},
   "duration": 1183.333041,
   "end_time": "2023-02-26T18:39:54.458046",
   "environment_variables": {},
   "exception": null,
   "input_path": "__notebook__.ipynb",
   "output_path": "__notebook__.ipynb",
   "parameters": {},
   "start_time": "2023-02-26T18:20:11.125005",
   "version": "2.4.0"
  },
  "vscode": {
   "interpreter": {
    "hash": "916dbcbb3f70747c44a77c7bcd40155683ae19c65e1c03b4aa3499c5328201f1"
   }
  }
 },
 "nbformat": 4,
 "nbformat_minor": 5
}

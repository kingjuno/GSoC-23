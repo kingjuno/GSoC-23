{
 "cells": [
  {
   "cell_type": "markdown",
   "id": "28a9bc22",
   "metadata": {
    "papermill": {
     "duration": 0.004836,
     "end_time": "2023-02-26T18:20:33.518827",
     "exception": false,
     "start_time": "2023-02-26T18:20:33.513991",
     "status": "completed"
    },
    "tags": []
   },
   "source": [
    "# C8Steerable CNN\n"
   ]
  },
  {
   "cell_type": "code",
   "execution_count": 1,
   "id": "4913b545",
   "metadata": {
    "execution": {
     "iopub.execute_input": "2023-06-28T14:39:45.198896Z",
     "iopub.status.busy": "2023-06-28T14:39:45.198631Z",
     "iopub.status.idle": "2023-06-28T14:42:09.457877Z",
     "shell.execute_reply": "2023-06-28T14:42:09.456964Z"
    }
   },
   "outputs": [
    {
     "name": "stderr",
     "output_type": "stream",
     "text": [
      "Downloading...\n",
      "From (uriginal): https://drive.google.com/uc?id=1ynKMJoEeKKJqLfuKRR1Y7rQjeBMM0w94\n",
      "From (redirected): https://drive.google.com/uc?id=1ynKMJoEeKKJqLfuKRR1Y7rQjeBMM0w94&confirm=t&uuid=318ced4e-7244-4f2b-8e34-9f428b7fc6a7\n",
      "To: /opt/repo/GSoC-23/data/Model_III.tgz\n",
      "100%|████████████████| 2.84G/2.84G [00:43<00:00, 65.8MB/s]\n",
      "Downloading...\n",
      "From (uriginal): https://drive.google.com/uc?id=18BuCv40t6qmiNnhjJF1y9rqSBhBOfDon\n",
      "From (redirected): https://drive.google.com/uc?id=18BuCv40t6qmiNnhjJF1y9rqSBhBOfDon&confirm=t&uuid=ee59619d-5653-4697-91ce-4bbf4ab9e570\n",
      "To: /opt/repo/GSoC-23/data/Model_III_test.tgz\n",
      "100%|███████████████████| 477M/477M [00:04<00:00, 112MB/s]\n"
     ]
    }
   ],
   "source": [
    "try:\n",
    "    done\n",
    "except:\n",
    "    import os\n",
    "\n",
    "    os.chdir(\"../../../\")\n",
    "    from utils.download import download\n",
    "    from utils.extract import extract\n",
    "\n",
    "    args = {\"model\": \"Model-3\"}\n",
    "    download(args)\n",
    "    extract(\"data/Model_III.tgz\", \"data/\")\n",
    "    extract(\"data/Model_III_test.tgz\", \"data/\")\n",
    "    done = True"
   ]
  },
  {
   "cell_type": "code",
   "execution_count": 2,
   "id": "7db64282",
   "metadata": {
    "_cell_guid": "b1076dfc-b9ad-4769-8c92-a6c4dae69d19",
    "_uuid": "8f2839f25d086af736a60e9eeb907d3b93b6e0e5",
    "execution": {
     "iopub.execute_input": "2023-06-28T14:42:09.465302Z",
     "iopub.status.busy": "2023-06-28T14:42:09.465050Z",
     "iopub.status.idle": "2023-06-28T14:42:14.562032Z",
     "shell.execute_reply": "2023-06-28T14:42:14.561362Z"
    },
    "papermill": {
     "duration": 4.22969,
     "end_time": "2023-02-26T18:20:37.753361",
     "exception": false,
     "start_time": "2023-02-26T18:20:33.523671",
     "status": "completed"
    },
    "tags": []
   },
   "outputs": [],
   "source": [
    "import copy\n",
    "import warnings\n",
    "\n",
    "import matplotlib.pyplot as plt\n",
    "import numpy as np\n",
    "import torch\n",
    "import torch.optim as optim\n",
    "import torchvision\n",
    "import torchvision.datasets as datasets\n",
    "import torchvision.transforms as transforms\n",
    "\n",
    "from itertools import cycle\n",
    "from PIL import Image\n",
    "from sklearn.metrics import (\n",
    "    auc,\n",
    "    confusion_matrix,\n",
    "    ConfusionMatrixDisplay,\n",
    "    roc_auc_score,\n",
    "    roc_curve,\n",
    ")\n",
    "from torch import optim\n",
    "from torch.utils.data import Dataset, DataLoader\n",
    "from torchvision import datasets, transforms\n",
    "\n",
    "\n",
    "from tqdm import tqdm\n",
    "\n",
    "warnings.filterwarnings(\"ignore\")"
   ]
  },
  {
   "cell_type": "markdown",
   "id": "8b7df613",
   "metadata": {
    "papermill": {
     "duration": 0.00477,
     "end_time": "2023-02-26T18:20:37.763344",
     "exception": false,
     "start_time": "2023-02-26T18:20:37.758574",
     "status": "completed"
    },
    "tags": []
   },
   "source": [
    "# Data Preparation\n"
   ]
  },
  {
   "cell_type": "code",
   "execution_count": 3,
   "id": "98c728a5",
   "metadata": {
    "execution": {
     "iopub.execute_input": "2023-06-28T14:42:14.565808Z",
     "iopub.status.busy": "2023-06-28T14:42:14.565376Z",
     "iopub.status.idle": "2023-06-28T14:42:14.570574Z",
     "shell.execute_reply": "2023-06-28T14:42:14.569919Z"
    }
   },
   "outputs": [],
   "source": [
    "train_transforms = transforms.Compose([\n",
    "    transforms.RandomRotation(180),\n",
    "    transforms.ColorJitter(brightness=(0.8, 1.2)),\n",
    "    transforms.Resize(128),\n",
    "    transforms.Grayscale(num_output_channels=3),\n",
    "    transforms.ToTensor()\n",
    "])\n",
    "\n",
    "test_transforms = transforms.Compose([\n",
    "    transforms.Resize(128),\n",
    "    transforms.Grayscale(num_output_channels=3),\n",
    "    transforms.ToTensor()\n",
    "])"
   ]
  },
  {
   "cell_type": "code",
   "execution_count": 4,
   "id": "e11b8596",
   "metadata": {
    "execution": {
     "iopub.execute_input": "2023-06-28T14:42:14.573234Z",
     "iopub.status.busy": "2023-06-28T14:42:14.572982Z",
     "iopub.status.idle": "2023-06-28T14:42:14.857426Z",
     "shell.execute_reply": "2023-06-28T14:42:14.856555Z"
    },
    "papermill": {
     "duration": 0.018594,
     "end_time": "2023-02-26T18:20:37.786759",
     "exception": false,
     "start_time": "2023-02-26T18:20:37.768165",
     "status": "completed"
    },
    "tags": []
   },
   "outputs": [],
   "source": [
    "class AxionDataset(Dataset):\n",
    "    def __init__(self, root_dir, transform=None):\n",
    "        self.root_dir = root_dir\n",
    "        self.transform = transform\n",
    "        self.class_name = \"axion\"\n",
    "        self.class_folder = os.path.join(self.root_dir, self.class_name)\n",
    "        self.file_list = [f for f in os.listdir(self.class_folder) if f.endswith('.npy')]\n",
    "\n",
    "    def __len__(self):\n",
    "        return len(self.file_list)\n",
    "\n",
    "    def __getitem__(self, idx):\n",
    "        if torch.is_tensor(idx):\n",
    "            idx = idx.tolist()\n",
    "\n",
    "        file_name = self.file_list[idx]\n",
    "        file_path = os.path.join(self.class_folder, file_name)\n",
    "        data = np.load(file_path, allow_pickle=True)\n",
    "        image = data[0]\n",
    "        weight = data[1]\n",
    "        image = 255 * (image / image.max())\n",
    "        image = Image.fromarray(image.astype('uint8')).convert(\"RGB\")\n",
    "        if self.transform:\n",
    "            image = self.transform(image)\n",
    "\n",
    "        return image.float(), weight.astype('float32')\n",
    "    \n",
    "\n",
    "trainset = AxionDataset(\n",
    "    root_dir='data/Model_III',\n",
    "    transform = train_transforms\n",
    ")\n",
    "\n",
    "testset = AxionDataset(\n",
    "    root_dir='data/Model_III_test',\n",
    "    transform = test_transforms\n",
    ")\n",
    "\n",
    "train_loader = torch.utils.data.DataLoader(trainset, batch_size=64,shuffle=True)\n",
    "test_loader = torch.utils.data.DataLoader(testset, batch_size=64,shuffle=True)"
   ]
  },
  {
   "cell_type": "code",
   "execution_count": 5,
   "id": "c541bb71",
   "metadata": {
    "execution": {
     "iopub.execute_input": "2023-06-28T14:42:16.592595Z",
     "iopub.status.busy": "2023-06-28T14:42:16.592372Z",
     "iopub.status.idle": "2023-06-28T14:42:16.679671Z",
     "shell.execute_reply": "2023-06-28T14:42:16.679097Z"
    },
    "papermill": {
     "duration": 0.288414,
     "end_time": "2023-02-26T18:20:38.079912",
     "exception": false,
     "start_time": "2023-02-26T18:20:37.791498",
     "status": "completed"
    },
    "tags": []
   },
   "outputs": [],
   "source": [
    "lr = 0.0001\n",
    "epochs = 10\n",
    "gamma = 0.7\n",
    "batch_size = 64\n",
    "device = \"cuda\" if torch.cuda.is_available() else \"cpu\""
   ]
  },
  {
   "cell_type": "markdown",
   "id": "337703e9",
   "metadata": {
    "papermill": {
     "duration": 0.005167,
     "end_time": "2023-02-26T18:20:38.096424",
     "exception": false,
     "start_time": "2023-02-26T18:20:38.091257",
     "status": "completed"
    },
    "tags": []
   },
   "source": [
    "# Model\n"
   ]
  },
  {
   "cell_type": "code",
   "execution_count": 6,
   "id": "e7b978f6",
   "metadata": {
    "execution": {
     "iopub.execute_input": "2023-06-28T14:42:16.682472Z",
     "iopub.status.busy": "2023-06-28T14:42:16.682215Z",
     "iopub.status.idle": "2023-06-28T14:42:20.162494Z",
     "shell.execute_reply": "2023-06-28T14:42:20.161477Z"
    },
    "papermill": {
     "duration": 0.028747,
     "end_time": "2023-02-26T18:20:38.130529",
     "exception": false,
     "start_time": "2023-02-26T18:20:38.101782",
     "status": "completed"
    },
    "tags": []
   },
   "outputs": [],
   "source": [
    "model = torchvision.models.resnet18(pretrained=True)\n",
    "model.fc = torch.nn.Linear(512, 1, bias=True)\n",
    "model = model.to(device)\n",
    "criterion = torch.nn.MSELoss()\n",
    "optimizer = torch.optim.Adam(model.parameters(), lr=lr, weight_decay=1e-5)\n",
    "scheduler = optim.lr_scheduler.StepLR(optimizer, step_size=15)"
   ]
  },
  {
   "cell_type": "markdown",
   "id": "6d5d9ce7",
   "metadata": {
    "papermill": {
     "duration": 0.004681,
     "end_time": "2023-02-26T18:20:49.389497",
     "exception": false,
     "start_time": "2023-02-26T18:20:49.384816",
     "status": "completed"
    },
    "tags": []
   },
   "source": [
    "# Training\n"
   ]
  },
  {
   "cell_type": "code",
   "execution_count": null,
   "id": "b6bd0abb",
   "metadata": {
    "execution": {
     "iopub.execute_input": "2023-06-28T14:42:20.166529Z",
     "iopub.status.busy": "2023-06-28T14:42:20.166178Z",
     "iopub.status.idle": "2023-06-28T17:54:27.308646Z",
     "shell.execute_reply": "2023-06-28T17:54:27.307809Z"
    },
    "papermill": {
     "duration": 1134.918433,
     "end_time": "2023-02-26T18:39:44.312733",
     "exception": false,
     "start_time": "2023-02-26T18:20:49.394300",
     "status": "completed"
    },
    "tags": []
   },
   "outputs": [
    {
     "name": "stderr",
     "output_type": "stream",
     "text": [
      " 83%|███████████████▊   | 387/466 [02:19<04:29,  3.41s/it]"
     ]
    }
   ],
   "source": [
    "all_train_loss = []\n",
    "all_test_loss = []\n",
    "\n",
    "\n",
    "best_loss = np.inf\n",
    "\n",
    "for epoch in range(epochs):\n",
    "    epoch_loss = 0\n",
    "    model.train()\n",
    "    tr_loss_epoch = []\n",
    "    test_loss_epoch = []\n",
    "    for data, label in tqdm(train_loader):\n",
    "        data = data.to(device)\n",
    "        label = label.to(device)\n",
    "\n",
    "        output = model(data)\n",
    "        loss = criterion(output, label).float()\n",
    "        tr_loss_epoch.append(loss.item())\n",
    "       \n",
    "        optimizer.zero_grad()\n",
    "        loss.backward()\n",
    "        optimizer.step()\n",
    "\n",
    "\n",
    "        epoch_loss += loss / len(train_loader)\n",
    "    scheduler.step()\n",
    "    all_train_loss.append(np.asarray(tr_loss_epoch))\n",
    "\n",
    "\n",
    "    torch.cuda.empty_cache()\n",
    "    with torch.no_grad():\n",
    "        epoch_val_loss = 0\n",
    "        for data, label in tqdm(test_loader):\n",
    "            data = data.to(device)\n",
    "            label = label.to(device)\n",
    "\n",
    "            val_output = model(data)\n",
    "            val_loss = criterion(val_output, label)\n",
    "            test_loss_epoch.append(val_loss.item())\n",
    "\n",
    "            epoch_val_loss += val_loss.item() / len(test_loader)\n",
    "        all_test_loss.append(np.asarray(test_loss_epoch))\n",
    "\n",
    "    if epoch_val_loss < best_loss:\n",
    "        best_loss = epoch_val_loss\n",
    "        best_model = copy.deepcopy(model)\n",
    "\n",
    "    print(\n",
    "        f\"Epoch : {epoch+1} - train loss : {epoch_loss:.4f} - val_loss : {epoch_val_loss:.4f}%\"\n",
    "    )\n",
    "torch.save(best_model.state_dict(), \"equi_nn.pth\")\n",
    "all_train_loss_mean = [j.mean() for j in all_train_loss]\n",
    "all_test_loss_mean = [j.mean() for j in all_test_loss]"
   ]
  },
  {
   "cell_type": "markdown",
   "id": "c6ed3fe3",
   "metadata": {
    "papermill": {
     "duration": 0.088846,
     "end_time": "2023-02-26T18:39:44.489827",
     "exception": false,
     "start_time": "2023-02-26T18:39:44.400981",
     "status": "completed"
    },
    "tags": []
   },
   "source": [
    "# Plotting Loss and Accuracy\n"
   ]
  },
  {
   "cell_type": "code",
   "execution_count": null,
   "id": "63766ee9",
   "metadata": {
    "execution": {
     "iopub.execute_input": "2023-06-28T17:54:27.313088Z",
     "iopub.status.busy": "2023-06-28T17:54:27.312785Z",
     "iopub.status.idle": "2023-06-28T17:54:27.997817Z",
     "shell.execute_reply": "2023-06-28T17:54:27.997227Z"
    },
    "papermill": {
     "duration": 0.608392,
     "end_time": "2023-02-26T18:39:45.185365",
     "exception": false,
     "start_time": "2023-02-26T18:39:44.576973",
     "status": "completed"
    },
    "tags": []
   },
   "outputs": [],
   "source": [
    "figure = plt.figure(figsize=(12, 8))\n",
    "cols, rows = 2, 1\n",
    "figure.add_subplot(rows, cols, 1)\n",
    "plt.title(\"Train loss Mean\")\n",
    "plt.plot(all_train_loss_mean)\n",
    "figure.add_subplot(rows, cols, 2)\n",
    "plt.title(\"Test loss Mean\")\n",
    "plt.plot(all_test_loss_mean)"
   ]
  },
  {
   "cell_type": "markdown",
   "id": "71719fa2",
   "metadata": {
    "papermill": {
     "duration": 0.097537,
     "end_time": "2023-02-26T18:39:45.372772",
     "exception": false,
     "start_time": "2023-02-26T18:39:45.275235",
     "status": "completed"
    },
    "tags": []
   },
   "source": [
    "# Loading Best Model\n"
   ]
  },
  {
   "cell_type": "code",
   "execution_count": null,
   "id": "d07b2629",
   "metadata": {
    "execution": {
     "iopub.execute_input": "2023-06-28T17:54:28.001123Z",
     "iopub.status.busy": "2023-06-28T17:54:28.000855Z",
     "iopub.status.idle": "2023-06-28T17:54:28.302221Z",
     "shell.execute_reply": "2023-06-28T17:54:28.301593Z"
    },
    "papermill": {
     "duration": 0.167712,
     "end_time": "2023-02-26T18:39:45.629158",
     "exception": false,
     "start_time": "2023-02-26T18:39:45.461446",
     "status": "completed"
    },
    "tags": []
   },
   "outputs": [],
   "source": [
    "model = torchvision.models.resnet18(pretrained=True)\n",
    "model.fc = torch.nn.Linear(512, 1, bias=True)\n",
    "model = model.to(device)\n",
    "model.load_state_dict(torch.load(\"equi_nn.pth\"), strict=False)"
   ]
  },
  {
   "cell_type": "markdown",
   "id": "4e685329",
   "metadata": {
    "papermill": {
     "duration": 0.088101,
     "end_time": "2023-02-26T18:39:45.807045",
     "exception": false,
     "start_time": "2023-02-26T18:39:45.718944",
     "status": "completed"
    },
    "tags": []
   },
   "source": [
    "# Testing\n"
   ]
  },
  {
   "cell_type": "code",
   "execution_count": null,
   "id": "0396ebf0",
   "metadata": {
    "execution": {
     "iopub.execute_input": "2023-06-28T17:55:28.470669Z",
     "iopub.status.busy": "2023-06-28T17:55:28.470435Z",
     "iopub.status.idle": "2023-06-28T17:55:28.738087Z",
     "shell.execute_reply": "2023-06-28T17:55:28.737407Z"
    },
    "papermill": {
     "duration": 0.313634,
     "end_time": "2023-02-26T18:39:52.237506",
     "exception": false,
     "start_time": "2023-02-26T18:39:51.923872",
     "status": "completed"
    },
    "tags": []
   },
   "outputs": [],
   "source": [
    "import torch.nn.functional as F\n",
    "with torch.no_grad():\n",
    "    model.eval()\n",
    "    rmse_list = []\n",
    "    mse_list = []\n",
    "    mae_list = []\n",
    "    \n",
    "    for i, (x, y) in enumerate(tqdm(test_loader)):\n",
    "        x = x.to(device)\n",
    "        y = y.to(device)\n",
    "        _y = model(x)\n",
    "        \n",
    "        # Calculate metrics\n",
    "        rmse = torch.sqrt(F.mse_loss(_y, y))\n",
    "        mse = F.mse_loss(_y, y)\n",
    "        mae = F.l1_loss(_y, y)\n",
    "        \n",
    "        rmse_list.append(rmse.item())\n",
    "        mse_list.append(mse.item())\n",
    "        mae_list.append(mae.item())\n",
    "\n",
    "# Calculate overall metrics\n",
    "avg_rmse = np.mean(rmse_list)\n",
    "avg_mse = np.mean(mse_list)\n",
    "avg_mae = np.mean(mae_list)\n",
    "\n",
    "print(\"Average RMSE:\", avg_rmse)\n",
    "print(\"Average MSE:\", avg_mse)\n",
    "print(\"Average MAE:\", avg_mae)"
   ]
  }
 ],
 "metadata": {
  "kernelspec": {
   "display_name": "Python 3 (ipykernel)",
   "language": "python",
   "name": "python3"
  },
  "language_info": {
   "codemirror_mode": {
    "name": "ipython",
    "version": 3
   },
   "file_extension": ".py",
   "mimetype": "text/x-python",
   "name": "python",
   "nbconvert_exporter": "python",
   "pygments_lexer": "ipython3",
   "version": "3.10.12"
  },
  "papermill": {
   "default_parameters": {},
   "duration": 1183.333041,
   "end_time": "2023-02-26T18:39:54.458046",
   "environment_variables": {},
   "exception": null,
   "input_path": "__notebook__.ipynb",
   "output_path": "__notebook__.ipynb",
   "parameters": {},
   "start_time": "2023-02-26T18:20:11.125005",
   "version": "2.4.0"
  },
  "vscode": {
   "interpreter": {
    "hash": "916dbcbb3f70747c44a77c7bcd40155683ae19c65e1c03b4aa3499c5328201f1"
   }
  },
  "widgets": {
   "application/vnd.jupyter.widget-state+json": {
    "state": {
     "5c2c51be3a1147ec988505c7503cdc46": {
      "model_module": "@jupyter-widgets/base",
      "model_module_version": "2.0.0",
      "model_name": "LayoutModel",
      "state": {
       "_model_module": "@jupyter-widgets/base",
       "_model_module_version": "2.0.0",
       "_model_name": "LayoutModel",
       "_view_count": null,
       "_view_module": "@jupyter-widgets/base",
       "_view_module_version": "2.0.0",
       "_view_name": "LayoutView",
       "align_content": null,
       "align_items": null,
       "align_self": null,
       "border_bottom": null,
       "border_left": null,
       "border_right": null,
       "border_top": null,
       "bottom": null,
       "display": null,
       "flex": null,
       "flex_flow": null,
       "grid_area": null,
       "grid_auto_columns": null,
       "grid_auto_flow": null,
       "grid_auto_rows": null,
       "grid_column": null,
       "grid_gap": null,
       "grid_row": null,
       "grid_template_areas": null,
       "grid_template_columns": null,
       "grid_template_rows": null,
       "height": null,
       "justify_content": null,
       "justify_items": null,
       "left": null,
       "margin": null,
       "max_height": null,
       "max_width": null,
       "min_height": null,
       "min_width": null,
       "object_fit": null,
       "object_position": null,
       "order": null,
       "overflow": null,
       "padding": null,
       "right": null,
       "top": null,
       "visibility": null,
       "width": null
      }
     },
     "60e0c1404769432eb6752d79d9def8e0": {
      "model_module": "@jupyter-widgets/controls",
      "model_module_version": "2.0.0",
      "model_name": "ProgressStyleModel",
      "state": {
       "_model_module": "@jupyter-widgets/controls",
       "_model_module_version": "2.0.0",
       "_model_name": "ProgressStyleModel",
       "_view_count": null,
       "_view_module": "@jupyter-widgets/base",
       "_view_module_version": "2.0.0",
       "_view_name": "StyleView",
       "bar_color": null,
       "description_width": ""
      }
     },
     "65f5de8370fa45f3827e7aa59c1e7a1b": {
      "model_module": "@jupyter-widgets/base",
      "model_module_version": "2.0.0",
      "model_name": "LayoutModel",
      "state": {
       "_model_module": "@jupyter-widgets/base",
       "_model_module_version": "2.0.0",
       "_model_name": "LayoutModel",
       "_view_count": null,
       "_view_module": "@jupyter-widgets/base",
       "_view_module_version": "2.0.0",
       "_view_name": "LayoutView",
       "align_content": null,
       "align_items": null,
       "align_self": null,
       "border_bottom": null,
       "border_left": null,
       "border_right": null,
       "border_top": null,
       "bottom": null,
       "display": null,
       "flex": null,
       "flex_flow": null,
       "grid_area": null,
       "grid_auto_columns": null,
       "grid_auto_flow": null,
       "grid_auto_rows": null,
       "grid_column": null,
       "grid_gap": null,
       "grid_row": null,
       "grid_template_areas": null,
       "grid_template_columns": null,
       "grid_template_rows": null,
       "height": null,
       "justify_content": null,
       "justify_items": null,
       "left": null,
       "margin": null,
       "max_height": null,
       "max_width": null,
       "min_height": null,
       "min_width": null,
       "object_fit": null,
       "object_position": null,
       "order": null,
       "overflow": null,
       "padding": null,
       "right": null,
       "top": null,
       "visibility": null,
       "width": null
      }
     },
     "671d523e18ec4ae3ad1e9af6e0bf7748": {
      "model_module": "@jupyter-widgets/controls",
      "model_module_version": "2.0.0",
      "model_name": "HTMLStyleModel",
      "state": {
       "_model_module": "@jupyter-widgets/controls",
       "_model_module_version": "2.0.0",
       "_model_name": "HTMLStyleModel",
       "_view_count": null,
       "_view_module": "@jupyter-widgets/base",
       "_view_module_version": "2.0.0",
       "_view_name": "StyleView",
       "background": null,
       "description_width": "",
       "font_size": null,
       "text_color": null
      }
     },
     "9645d059fdb74271bfcc0714464bb95b": {
      "model_module": "@jupyter-widgets/controls",
      "model_module_version": "2.0.0",
      "model_name": "HTMLStyleModel",
      "state": {
       "_model_module": "@jupyter-widgets/controls",
       "_model_module_version": "2.0.0",
       "_model_name": "HTMLStyleModel",
       "_view_count": null,
       "_view_module": "@jupyter-widgets/base",
       "_view_module_version": "2.0.0",
       "_view_name": "StyleView",
       "background": null,
       "description_width": "",
       "font_size": null,
       "text_color": null
      }
     },
     "9a3519302f6c45079f5b0f2db35a3f04": {
      "model_module": "@jupyter-widgets/base",
      "model_module_version": "2.0.0",
      "model_name": "LayoutModel",
      "state": {
       "_model_module": "@jupyter-widgets/base",
       "_model_module_version": "2.0.0",
       "_model_name": "LayoutModel",
       "_view_count": null,
       "_view_module": "@jupyter-widgets/base",
       "_view_module_version": "2.0.0",
       "_view_name": "LayoutView",
       "align_content": null,
       "align_items": null,
       "align_self": null,
       "border_bottom": null,
       "border_left": null,
       "border_right": null,
       "border_top": null,
       "bottom": null,
       "display": null,
       "flex": null,
       "flex_flow": null,
       "grid_area": null,
       "grid_auto_columns": null,
       "grid_auto_flow": null,
       "grid_auto_rows": null,
       "grid_column": null,
       "grid_gap": null,
       "grid_row": null,
       "grid_template_areas": null,
       "grid_template_columns": null,
       "grid_template_rows": null,
       "height": null,
       "justify_content": null,
       "justify_items": null,
       "left": null,
       "margin": null,
       "max_height": null,
       "max_width": null,
       "min_height": null,
       "min_width": null,
       "object_fit": null,
       "object_position": null,
       "order": null,
       "overflow": null,
       "padding": null,
       "right": null,
       "top": null,
       "visibility": null,
       "width": null
      }
     },
     "ad45cb213bff4e808f286d2349e50895": {
      "model_module": "@jupyter-widgets/controls",
      "model_module_version": "2.0.0",
      "model_name": "HTMLModel",
      "state": {
       "_dom_classes": [],
       "_model_module": "@jupyter-widgets/controls",
       "_model_module_version": "2.0.0",
       "_model_name": "HTMLModel",
       "_view_count": null,
       "_view_module": "@jupyter-widgets/controls",
       "_view_module_version": "2.0.0",
       "_view_name": "HTMLView",
       "description": "",
       "description_allow_html": false,
       "layout": "IPY_MODEL_5c2c51be3a1147ec988505c7503cdc46",
       "placeholder": "​",
       "style": "IPY_MODEL_9645d059fdb74271bfcc0714464bb95b",
       "tabbable": null,
       "tooltip": null,
       "value": " 44.7M/44.7M [00:00&lt;00:00, 78.0MB/s]"
      }
     },
     "be065264a69c427bbe1396bf2d4db0b4": {
      "model_module": "@jupyter-widgets/controls",
      "model_module_version": "2.0.0",
      "model_name": "FloatProgressModel",
      "state": {
       "_dom_classes": [],
       "_model_module": "@jupyter-widgets/controls",
       "_model_module_version": "2.0.0",
       "_model_name": "FloatProgressModel",
       "_view_count": null,
       "_view_module": "@jupyter-widgets/controls",
       "_view_module_version": "2.0.0",
       "_view_name": "ProgressView",
       "bar_style": "success",
       "description": "",
       "description_allow_html": false,
       "layout": "IPY_MODEL_65f5de8370fa45f3827e7aa59c1e7a1b",
       "max": 46830571,
       "min": 0,
       "orientation": "horizontal",
       "style": "IPY_MODEL_60e0c1404769432eb6752d79d9def8e0",
       "tabbable": null,
       "tooltip": null,
       "value": 46830571
      }
     },
     "bf305b6230c646ed955d2a1273de72bf": {
      "model_module": "@jupyter-widgets/base",
      "model_module_version": "2.0.0",
      "model_name": "LayoutModel",
      "state": {
       "_model_module": "@jupyter-widgets/base",
       "_model_module_version": "2.0.0",
       "_model_name": "LayoutModel",
       "_view_count": null,
       "_view_module": "@jupyter-widgets/base",
       "_view_module_version": "2.0.0",
       "_view_name": "LayoutView",
       "align_content": null,
       "align_items": null,
       "align_self": null,
       "border_bottom": null,
       "border_left": null,
       "border_right": null,
       "border_top": null,
       "bottom": null,
       "display": null,
       "flex": null,
       "flex_flow": null,
       "grid_area": null,
       "grid_auto_columns": null,
       "grid_auto_flow": null,
       "grid_auto_rows": null,
       "grid_column": null,
       "grid_gap": null,
       "grid_row": null,
       "grid_template_areas": null,
       "grid_template_columns": null,
       "grid_template_rows": null,
       "height": null,
       "justify_content": null,
       "justify_items": null,
       "left": null,
       "margin": null,
       "max_height": null,
       "max_width": null,
       "min_height": null,
       "min_width": null,
       "object_fit": null,
       "object_position": null,
       "order": null,
       "overflow": null,
       "padding": null,
       "right": null,
       "top": null,
       "visibility": null,
       "width": null
      }
     },
     "cc5efd8a2c484cec91c160428beeb74c": {
      "model_module": "@jupyter-widgets/controls",
      "model_module_version": "2.0.0",
      "model_name": "HTMLModel",
      "state": {
       "_dom_classes": [],
       "_model_module": "@jupyter-widgets/controls",
       "_model_module_version": "2.0.0",
       "_model_name": "HTMLModel",
       "_view_count": null,
       "_view_module": "@jupyter-widgets/controls",
       "_view_module_version": "2.0.0",
       "_view_name": "HTMLView",
       "description": "",
       "description_allow_html": false,
       "layout": "IPY_MODEL_bf305b6230c646ed955d2a1273de72bf",
       "placeholder": "​",
       "style": "IPY_MODEL_671d523e18ec4ae3ad1e9af6e0bf7748",
       "tabbable": null,
       "tooltip": null,
       "value": "100%"
      }
     },
     "f605480a02964caf9771270bc296c906": {
      "model_module": "@jupyter-widgets/controls",
      "model_module_version": "2.0.0",
      "model_name": "HBoxModel",
      "state": {
       "_dom_classes": [],
       "_model_module": "@jupyter-widgets/controls",
       "_model_module_version": "2.0.0",
       "_model_name": "HBoxModel",
       "_view_count": null,
       "_view_module": "@jupyter-widgets/controls",
       "_view_module_version": "2.0.0",
       "_view_name": "HBoxView",
       "box_style": "",
       "children": [
        "IPY_MODEL_cc5efd8a2c484cec91c160428beeb74c",
        "IPY_MODEL_be065264a69c427bbe1396bf2d4db0b4",
        "IPY_MODEL_ad45cb213bff4e808f286d2349e50895"
       ],
       "layout": "IPY_MODEL_9a3519302f6c45079f5b0f2db35a3f04",
       "tabbable": null,
       "tooltip": null
      }
     }
    },
    "version_major": 2,
    "version_minor": 0
   }
  }
 },
 "nbformat": 4,
 "nbformat_minor": 5
}

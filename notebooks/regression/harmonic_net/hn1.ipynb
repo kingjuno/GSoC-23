{
 "cells": [
  {
   "cell_type": "markdown",
   "id": "28a9bc22",
   "metadata": {
    "papermill": {
     "duration": 0.004836,
     "end_time": "2023-02-26T18:20:33.518827",
     "exception": false,
     "start_time": "2023-02-26T18:20:33.513991",
     "status": "completed"
    },
    "tags": []
   },
   "source": [
    "# C8Steerable CNN\n"
   ]
  },
  {
   "cell_type": "code",
   "execution_count": 1,
   "id": "4913b545",
   "metadata": {
    "execution": {
     "iopub.execute_input": "2023-08-25T12:05:44.012216Z",
     "iopub.status.busy": "2023-08-25T12:05:44.011955Z",
     "iopub.status.idle": "2023-08-25T12:08:23.246661Z",
     "shell.execute_reply": "2023-08-25T12:08:23.245888Z"
    }
   },
   "outputs": [
    {
     "name": "stderr",
     "output_type": "stream",
     "text": [
      "Downloading...\n",
      "From (uriginal): https://drive.google.com/uc?id=1QMVLpqag6S9JWqzmGM_pK4C0F1eBVIfV\n",
      "From (redirected): https://drive.google.com/uc?id=1QMVLpqag6S9JWqzmGM_pK4C0F1eBVIfV&confirm=t&uuid=3024ff80-b04c-44f1-8b0d-b8d73757d0b1\n",
      "To: /opt/repo/GSoC-23/data/Model_I.tgz\n",
      "100%|█████████████████████████████████████████████████████| 1.99G/1.99G [00:24<00:00, 80.6MB/s]\n",
      "Downloading...\n",
      "From (uriginal): https://drive.google.com/uc?id=1rUAKLLS3p9jDaL9R9m84JVKvMcUuVsO1\n",
      "From (redirected): https://drive.google.com/uc?id=1rUAKLLS3p9jDaL9R9m84JVKvMcUuVsO1&confirm=t&uuid=92bb8eec-438a-4625-8611-7000a9f964ed\n",
      "To: /opt/repo/GSoC-23/data/Model_I_test.tgz\n",
      "100%|███████████████████████████████████████████████████████| 340M/340M [00:04<00:00, 82.6MB/s]\n"
     ]
    }
   ],
   "source": [
    "try:\n",
    "    done\n",
    "except:\n",
    "    import os\n",
    "\n",
    "    os.chdir(\"../../../\")\n",
    "    from utils.download import download\n",
    "    from utils.extract import extract\n",
    "\n",
    "    args = {\"model\": \"Model-1\"}\n",
    "    download(args)\n",
    "    extract(\"data/Model_I.tgz\", \"data/\")\n",
    "    extract(\"data/Model_I_test.tgz\", \"data/\")\n",
    "    done = True"
   ]
  },
  {
   "cell_type": "code",
   "execution_count": 2,
   "id": "7db64282",
   "metadata": {
    "_cell_guid": "b1076dfc-b9ad-4769-8c92-a6c4dae69d19",
    "_uuid": "8f2839f25d086af736a60e9eeb907d3b93b6e0e5",
    "execution": {
     "iopub.execute_input": "2023-08-25T12:08:23.251136Z",
     "iopub.status.busy": "2023-08-25T12:08:23.250884Z",
     "iopub.status.idle": "2023-08-25T12:08:26.091426Z",
     "shell.execute_reply": "2023-08-25T12:08:26.090615Z"
    },
    "papermill": {
     "duration": 4.22969,
     "end_time": "2023-02-26T18:20:37.753361",
     "exception": false,
     "start_time": "2023-02-26T18:20:33.523671",
     "status": "completed"
    },
    "tags": []
   },
   "outputs": [],
   "source": [
    "import copy\n",
    "import warnings\n",
    "\n",
    "import matplotlib.pyplot as plt\n",
    "import numpy as np\n",
    "import torch\n",
    "import torch.optim as optim\n",
    "import torchvision.datasets as datasets\n",
    "import torchvision.transforms as transforms\n",
    "\n",
    "from itertools import cycle\n",
    "from PIL import Image\n",
    "from sklearn.metrics import (\n",
    "    auc,\n",
    "    confusion_matrix,\n",
    "    ConfusionMatrixDisplay,\n",
    "    roc_auc_score,\n",
    "    roc_curve,\n",
    ")\n",
    "from torch import optim\n",
    "from torch.utils.data import Dataset, DataLoader\n",
    "from torchvision import datasets, transforms\n",
    "\n",
    "\n",
    "from tqdm import tqdm\n",
    "\n",
    "warnings.filterwarnings(\"ignore\")"
   ]
  },
  {
   "cell_type": "markdown",
   "id": "8b7df613",
   "metadata": {
    "papermill": {
     "duration": 0.00477,
     "end_time": "2023-02-26T18:20:37.763344",
     "exception": false,
     "start_time": "2023-02-26T18:20:37.758574",
     "status": "completed"
    },
    "tags": []
   },
   "source": [
    "# Data Preparation\n"
   ]
  },
  {
   "cell_type": "code",
   "execution_count": 3,
   "id": "98c728a5",
   "metadata": {
    "execution": {
     "iopub.execute_input": "2023-08-25T12:08:26.094957Z",
     "iopub.status.busy": "2023-08-25T12:08:26.094610Z",
     "iopub.status.idle": "2023-08-25T12:08:26.099257Z",
     "shell.execute_reply": "2023-08-25T12:08:26.098654Z"
    }
   },
   "outputs": [],
   "source": [
    "train_transforms = transforms.Compose([\n",
    "    transforms.RandomRotation(180),\n",
    "    transforms.ColorJitter(brightness=(0.8, 1.2)),\n",
    "    transforms.Resize(128),\n",
    "    transforms.Grayscale(num_output_channels=1),\n",
    "    transforms.ToTensor()\n",
    "])\n",
    "\n",
    "test_transforms = transforms.Compose([\n",
    "    transforms.Resize(128),\n",
    "    transforms.Grayscale(num_output_channels=1),\n",
    "    transforms.ToTensor()\n",
    "])"
   ]
  },
  {
   "cell_type": "code",
   "execution_count": 4,
   "id": "e11b8596",
   "metadata": {
    "execution": {
     "iopub.execute_input": "2023-08-25T12:08:26.102078Z",
     "iopub.status.busy": "2023-08-25T12:08:26.101793Z",
     "iopub.status.idle": "2023-08-25T12:08:26.128179Z",
     "shell.execute_reply": "2023-08-25T12:08:26.127551Z"
    },
    "papermill": {
     "duration": 0.018594,
     "end_time": "2023-02-26T18:20:37.786759",
     "exception": false,
     "start_time": "2023-02-26T18:20:37.768165",
     "status": "completed"
    },
    "tags": []
   },
   "outputs": [],
   "source": [
    "class AxionDataset(Dataset):\n",
    "    def __init__(self, root_dir, transform=None):\n",
    "        self.root_dir = root_dir\n",
    "        self.transform = transform\n",
    "        self.class_name = \"axion\"\n",
    "        self.class_folder = os.path.join(self.root_dir, self.class_name)\n",
    "        self.file_list = [f for f in os.listdir(self.class_folder) if f.endswith('.npy')]\n",
    "\n",
    "    def __len__(self):\n",
    "        return len(self.file_list)\n",
    "\n",
    "    def __getitem__(self, idx):\n",
    "        if torch.is_tensor(idx):\n",
    "            idx = idx.tolist()\n",
    "\n",
    "        file_name = self.file_list[idx]\n",
    "        file_path = os.path.join(self.class_folder, file_name)\n",
    "        data = np.load(file_path, allow_pickle=True)\n",
    "        image = data[0]\n",
    "        weight = data[1]\n",
    "        image = 255 * (image / image.max())\n",
    "        image = Image.fromarray(image.astype('uint8')).convert(\"RGB\")\n",
    "        if self.transform:\n",
    "            image = self.transform(image)\n",
    "\n",
    "        return image.float(), weight.astype('float32')\n",
    "    \n",
    "\n",
    "trainset = AxionDataset(\n",
    "    root_dir='data/Model_I',\n",
    "    transform = train_transforms\n",
    ")\n",
    "\n",
    "testset = AxionDataset(\n",
    "    root_dir='data/Model_I_test',\n",
    "    transform = test_transforms\n",
    ")\n",
    "\n",
    "train_loader = torch.utils.data.DataLoader(trainset, batch_size=64,shuffle=True)\n",
    "test_loader = torch.utils.data.DataLoader(testset, batch_size=64,shuffle=True)"
   ]
  },
  {
   "cell_type": "code",
   "execution_count": 5,
   "id": "c541bb71",
   "metadata": {
    "execution": {
     "iopub.execute_input": "2023-08-25T12:08:26.130956Z",
     "iopub.status.busy": "2023-08-25T12:08:26.130701Z",
     "iopub.status.idle": "2023-08-25T12:08:26.207736Z",
     "shell.execute_reply": "2023-08-25T12:08:26.207059Z"
    },
    "papermill": {
     "duration": 0.288414,
     "end_time": "2023-02-26T18:20:38.079912",
     "exception": false,
     "start_time": "2023-02-26T18:20:37.791498",
     "status": "completed"
    },
    "tags": []
   },
   "outputs": [],
   "source": [
    "lr = 0.0001\n",
    "epochs = 30\n",
    "gamma = 0.7\n",
    "batch_size = 64\n",
    "device = \"cuda\" if torch.cuda.is_available() else \"cpu\""
   ]
  },
  {
   "cell_type": "markdown",
   "id": "337703e9",
   "metadata": {
    "papermill": {
     "duration": 0.005167,
     "end_time": "2023-02-26T18:20:38.096424",
     "exception": false,
     "start_time": "2023-02-26T18:20:38.091257",
     "status": "completed"
    },
    "tags": []
   },
   "source": [
    "# Model\n"
   ]
  },
  {
   "cell_type": "code",
   "execution_count": 6,
   "id": "5905f15d",
   "metadata": {
    "execution": {
     "iopub.execute_input": "2023-08-25T12:08:26.210761Z",
     "iopub.status.busy": "2023-08-25T12:08:26.210481Z",
     "iopub.status.idle": "2023-08-25T12:08:26.214496Z",
     "shell.execute_reply": "2023-08-25T12:08:26.213895Z"
    }
   },
   "outputs": [],
   "source": [
    "class args: ...\n",
    "args.batch_size = 64\n",
    "args.std_mult = 0.7\n",
    "args.filter_gain = 2\n",
    "args.filter_size = 5\n",
    "args.n_rings = 4\n",
    "args.n_filters = 8 \n",
    "args.dim = 128\n",
    "args.n_classes = 1"
   ]
  },
  {
   "cell_type": "code",
   "execution_count": 7,
   "id": "e7b978f6",
   "metadata": {
    "execution": {
     "iopub.execute_input": "2023-08-25T12:08:26.217292Z",
     "iopub.status.busy": "2023-08-25T12:08:26.217021Z",
     "iopub.status.idle": "2023-08-25T12:08:28.862201Z",
     "shell.execute_reply": "2023-08-25T12:08:28.861099Z"
    },
    "papermill": {
     "duration": 0.028747,
     "end_time": "2023-02-26T18:20:38.130529",
     "exception": false,
     "start_time": "2023-02-26T18:20:38.101782",
     "status": "completed"
    },
    "tags": []
   },
   "outputs": [],
   "source": [
    "from models import HN\n",
    "\n",
    "model = HN(args).to(device)\n",
    "\n",
    "criterion = torch.nn.MSELoss()\n",
    "optimizer = optim.Adam(model.parameters(), lr=lr)\n",
    "scheduler = optim.lr_scheduler.StepLR(optimizer, step_size=5, gamma=gamma)"
   ]
  },
  {
   "cell_type": "markdown",
   "id": "6d5d9ce7",
   "metadata": {
    "papermill": {
     "duration": 0.004681,
     "end_time": "2023-02-26T18:20:49.389497",
     "exception": false,
     "start_time": "2023-02-26T18:20:49.384816",
     "status": "completed"
    },
    "tags": []
   },
   "source": [
    "# Training\n"
   ]
  },
  {
   "cell_type": "code",
   "execution_count": 8,
   "id": "b6bd0abb",
   "metadata": {
    "execution": {
     "iopub.execute_input": "2023-08-25T12:08:28.866501Z",
     "iopub.status.busy": "2023-08-25T12:08:28.865883Z",
     "iopub.status.idle": "2023-08-25T13:12:35.134056Z",
     "shell.execute_reply": "2023-08-25T13:12:35.133211Z"
    },
    "papermill": {
     "duration": 1134.918433,
     "end_time": "2023-02-26T18:39:44.312733",
     "exception": false,
     "start_time": "2023-02-26T18:20:49.394300",
     "status": "completed"
    },
    "tags": []
   },
   "outputs": [
    {
     "name": "stderr",
     "output_type": "stream",
     "text": [
      "100%|████████████████████████████████████████████████████████| 452/452 [01:54<00:00,  3.95it/s]\n",
      "100%|██████████████████████████████████████████████████████████| 79/79 [00:14<00:00,  5.34it/s]\n"
     ]
    },
    {
     "name": "stdout",
     "output_type": "stream",
     "text": [
      "Epoch : 1 - train loss : 48.4790 - val_loss : 6.9611%\n"
     ]
    },
    {
     "name": "stderr",
     "output_type": "stream",
     "text": [
      "100%|████████████████████████████████████████████████████████| 452/452 [01:53<00:00,  4.00it/s]\n",
      "100%|██████████████████████████████████████████████████████████| 79/79 [00:14<00:00,  5.37it/s]\n"
     ]
    },
    {
     "name": "stdout",
     "output_type": "stream",
     "text": [
      "Epoch : 2 - train loss : 4.7801 - val_loss : 2.8641%\n"
     ]
    },
    {
     "name": "stderr",
     "output_type": "stream",
     "text": [
      "100%|████████████████████████████████████████████████████████| 452/452 [01:52<00:00,  4.01it/s]\n",
      "100%|██████████████████████████████████████████████████████████| 79/79 [00:14<00:00,  5.39it/s]\n"
     ]
    },
    {
     "name": "stdout",
     "output_type": "stream",
     "text": [
      "Epoch : 3 - train loss : 2.3208 - val_loss : 1.6556%\n"
     ]
    },
    {
     "name": "stderr",
     "output_type": "stream",
     "text": [
      "100%|████████████████████████████████████████████████████████| 452/452 [01:53<00:00,  3.99it/s]\n",
      "100%|██████████████████████████████████████████████████████████| 79/79 [00:14<00:00,  5.42it/s]\n"
     ]
    },
    {
     "name": "stdout",
     "output_type": "stream",
     "text": [
      "Epoch : 4 - train loss : 1.4174 - val_loss : 1.0634%\n"
     ]
    },
    {
     "name": "stderr",
     "output_type": "stream",
     "text": [
      "100%|████████████████████████████████████████████████████████| 452/452 [01:53<00:00,  3.99it/s]\n",
      "100%|██████████████████████████████████████████████████████████| 79/79 [00:14<00:00,  5.41it/s]\n"
     ]
    },
    {
     "name": "stdout",
     "output_type": "stream",
     "text": [
      "Epoch : 5 - train loss : 0.9377 - val_loss : 0.7195%\n"
     ]
    },
    {
     "name": "stderr",
     "output_type": "stream",
     "text": [
      "100%|████████████████████████████████████████████████████████| 452/452 [01:53<00:00,  4.00it/s]\n",
      "100%|██████████████████████████████████████████████████████████| 79/79 [00:14<00:00,  5.37it/s]\n"
     ]
    },
    {
     "name": "stdout",
     "output_type": "stream",
     "text": [
      "Epoch : 6 - train loss : 0.6797 - val_loss : 0.5659%\n"
     ]
    },
    {
     "name": "stderr",
     "output_type": "stream",
     "text": [
      "100%|████████████████████████████████████████████████████████| 452/452 [01:52<00:00,  4.00it/s]\n",
      "100%|██████████████████████████████████████████████████████████| 79/79 [00:14<00:00,  5.47it/s]\n"
     ]
    },
    {
     "name": "stdout",
     "output_type": "stream",
     "text": [
      "Epoch : 7 - train loss : 0.5233 - val_loss : 0.4300%\n"
     ]
    },
    {
     "name": "stderr",
     "output_type": "stream",
     "text": [
      "100%|████████████████████████████████████████████████████████| 452/452 [01:53<00:00,  4.00it/s]\n",
      "100%|██████████████████████████████████████████████████████████| 79/79 [00:14<00:00,  5.40it/s]\n"
     ]
    },
    {
     "name": "stdout",
     "output_type": "stream",
     "text": [
      "Epoch : 8 - train loss : 0.3981 - val_loss : 0.3352%\n"
     ]
    },
    {
     "name": "stderr",
     "output_type": "stream",
     "text": [
      "100%|████████████████████████████████████████████████████████| 452/452 [01:53<00:00,  3.99it/s]\n",
      "100%|██████████████████████████████████████████████████████████| 79/79 [00:14<00:00,  5.39it/s]\n"
     ]
    },
    {
     "name": "stdout",
     "output_type": "stream",
     "text": [
      "Epoch : 9 - train loss : 0.3009 - val_loss : 0.2373%\n"
     ]
    },
    {
     "name": "stderr",
     "output_type": "stream",
     "text": [
      "100%|████████████████████████████████████████████████████████| 452/452 [01:52<00:00,  4.00it/s]\n",
      "100%|██████████████████████████████████████████████████████████| 79/79 [00:14<00:00,  5.39it/s]\n"
     ]
    },
    {
     "name": "stdout",
     "output_type": "stream",
     "text": [
      "Epoch : 10 - train loss : 0.2219 - val_loss : 0.1748%\n"
     ]
    },
    {
     "name": "stderr",
     "output_type": "stream",
     "text": [
      "100%|████████████████████████████████████████████████████████| 452/452 [01:53<00:00,  4.00it/s]\n",
      "100%|██████████████████████████████████████████████████████████| 79/79 [00:14<00:00,  5.36it/s]\n"
     ]
    },
    {
     "name": "stdout",
     "output_type": "stream",
     "text": [
      "Epoch : 11 - train loss : 0.1665 - val_loss : 0.1352%\n"
     ]
    },
    {
     "name": "stderr",
     "output_type": "stream",
     "text": [
      "100%|████████████████████████████████████████████████████████| 452/452 [01:53<00:00,  4.00it/s]\n",
      "100%|██████████████████████████████████████████████████████████| 79/79 [00:14<00:00,  5.32it/s]\n"
     ]
    },
    {
     "name": "stdout",
     "output_type": "stream",
     "text": [
      "Epoch : 12 - train loss : 0.1316 - val_loss : 0.1035%\n"
     ]
    },
    {
     "name": "stderr",
     "output_type": "stream",
     "text": [
      "100%|████████████████████████████████████████████████████████| 452/452 [01:53<00:00,  3.99it/s]\n",
      "100%|██████████████████████████████████████████████████████████| 79/79 [00:14<00:00,  5.38it/s]\n"
     ]
    },
    {
     "name": "stdout",
     "output_type": "stream",
     "text": [
      "Epoch : 13 - train loss : 0.0995 - val_loss : 0.0772%\n"
     ]
    },
    {
     "name": "stderr",
     "output_type": "stream",
     "text": [
      "100%|████████████████████████████████████████████████████████| 452/452 [01:53<00:00,  3.99it/s]\n",
      "100%|██████████████████████████████████████████████████████████| 79/79 [00:14<00:00,  5.48it/s]\n"
     ]
    },
    {
     "name": "stdout",
     "output_type": "stream",
     "text": [
      "Epoch : 14 - train loss : 0.0743 - val_loss : 0.0549%\n"
     ]
    },
    {
     "name": "stderr",
     "output_type": "stream",
     "text": [
      "100%|████████████████████████████████████████████████████████| 452/452 [01:53<00:00,  4.00it/s]\n",
      "100%|██████████████████████████████████████████████████████████| 79/79 [00:14<00:00,  5.41it/s]\n"
     ]
    },
    {
     "name": "stdout",
     "output_type": "stream",
     "text": [
      "Epoch : 15 - train loss : 0.0536 - val_loss : 0.0416%\n"
     ]
    },
    {
     "name": "stderr",
     "output_type": "stream",
     "text": [
      "100%|████████████████████████████████████████████████████████| 452/452 [01:53<00:00,  3.99it/s]\n",
      "100%|██████████████████████████████████████████████████████████| 79/79 [00:14<00:00,  5.35it/s]\n"
     ]
    },
    {
     "name": "stdout",
     "output_type": "stream",
     "text": [
      "Epoch : 16 - train loss : 0.0389 - val_loss : 0.0296%\n"
     ]
    },
    {
     "name": "stderr",
     "output_type": "stream",
     "text": [
      "100%|████████████████████████████████████████████████████████| 452/452 [01:53<00:00,  4.00it/s]\n",
      "100%|██████████████████████████████████████████████████████████| 79/79 [00:14<00:00,  5.37it/s]\n"
     ]
    },
    {
     "name": "stdout",
     "output_type": "stream",
     "text": [
      "Epoch : 17 - train loss : 0.0293 - val_loss : 0.0210%\n"
     ]
    },
    {
     "name": "stderr",
     "output_type": "stream",
     "text": [
      "100%|████████████████████████████████████████████████████████| 452/452 [01:53<00:00,  4.00it/s]\n",
      "100%|██████████████████████████████████████████████████████████| 79/79 [00:14<00:00,  5.40it/s]\n"
     ]
    },
    {
     "name": "stdout",
     "output_type": "stream",
     "text": [
      "Epoch : 18 - train loss : 0.0213 - val_loss : 0.0146%\n"
     ]
    },
    {
     "name": "stderr",
     "output_type": "stream",
     "text": [
      "100%|████████████████████████████████████████████████████████| 452/452 [01:53<00:00,  3.98it/s]\n",
      "100%|██████████████████████████████████████████████████████████| 79/79 [00:14<00:00,  5.38it/s]\n"
     ]
    },
    {
     "name": "stdout",
     "output_type": "stream",
     "text": [
      "Epoch : 19 - train loss : 0.0153 - val_loss : 0.0101%\n"
     ]
    },
    {
     "name": "stderr",
     "output_type": "stream",
     "text": [
      "100%|████████████████████████████████████████████████████████| 452/452 [01:53<00:00,  3.98it/s]\n",
      "100%|██████████████████████████████████████████████████████████| 79/79 [00:14<00:00,  5.39it/s]\n"
     ]
    },
    {
     "name": "stdout",
     "output_type": "stream",
     "text": [
      "Epoch : 20 - train loss : 0.0104 - val_loss : 0.0066%\n"
     ]
    },
    {
     "name": "stderr",
     "output_type": "stream",
     "text": [
      "100%|████████████████████████████████████████████████████████| 452/452 [01:53<00:00,  3.97it/s]\n",
      "100%|██████████████████████████████████████████████████████████| 79/79 [00:14<00:00,  5.32it/s]\n"
     ]
    },
    {
     "name": "stdout",
     "output_type": "stream",
     "text": [
      "Epoch : 21 - train loss : 0.0072 - val_loss : 0.0041%\n"
     ]
    },
    {
     "name": "stderr",
     "output_type": "stream",
     "text": [
      "100%|████████████████████████████████████████████████████████| 452/452 [01:53<00:00,  3.99it/s]\n",
      "100%|██████████████████████████████████████████████████████████| 79/79 [00:14<00:00,  5.38it/s]\n"
     ]
    },
    {
     "name": "stdout",
     "output_type": "stream",
     "text": [
      "Epoch : 22 - train loss : 0.0051 - val_loss : 0.0028%\n"
     ]
    },
    {
     "name": "stderr",
     "output_type": "stream",
     "text": [
      "100%|████████████████████████████████████████████████████████| 452/452 [01:53<00:00,  3.99it/s]\n",
      "100%|██████████████████████████████████████████████████████████| 79/79 [00:14<00:00,  5.44it/s]\n"
     ]
    },
    {
     "name": "stdout",
     "output_type": "stream",
     "text": [
      "Epoch : 23 - train loss : 0.0037 - val_loss : 0.0020%\n"
     ]
    },
    {
     "name": "stderr",
     "output_type": "stream",
     "text": [
      "100%|████████████████████████████████████████████████████████| 452/452 [01:53<00:00,  4.00it/s]\n",
      "100%|██████████████████████████████████████████████████████████| 79/79 [00:14<00:00,  5.43it/s]\n"
     ]
    },
    {
     "name": "stdout",
     "output_type": "stream",
     "text": [
      "Epoch : 24 - train loss : 0.0026 - val_loss : 0.0013%\n"
     ]
    },
    {
     "name": "stderr",
     "output_type": "stream",
     "text": [
      "100%|████████████████████████████████████████████████████████| 452/452 [01:53<00:00,  3.99it/s]\n",
      "100%|██████████████████████████████████████████████████████████| 79/79 [00:14<00:00,  5.33it/s]\n"
     ]
    },
    {
     "name": "stdout",
     "output_type": "stream",
     "text": [
      "Epoch : 25 - train loss : 0.0019 - val_loss : 0.0006%\n"
     ]
    },
    {
     "name": "stderr",
     "output_type": "stream",
     "text": [
      "100%|████████████████████████████████████████████████████████| 452/452 [01:53<00:00,  4.00it/s]\n",
      "100%|██████████████████████████████████████████████████████████| 79/79 [00:14<00:00,  5.36it/s]\n"
     ]
    },
    {
     "name": "stdout",
     "output_type": "stream",
     "text": [
      "Epoch : 26 - train loss : 0.0013 - val_loss : 0.0004%\n"
     ]
    },
    {
     "name": "stderr",
     "output_type": "stream",
     "text": [
      "100%|████████████████████████████████████████████████████████| 452/452 [01:53<00:00,  3.99it/s]\n",
      "100%|██████████████████████████████████████████████████████████| 79/79 [00:14<00:00,  5.42it/s]\n"
     ]
    },
    {
     "name": "stdout",
     "output_type": "stream",
     "text": [
      "Epoch : 27 - train loss : 0.0011 - val_loss : 0.0003%\n"
     ]
    },
    {
     "name": "stderr",
     "output_type": "stream",
     "text": [
      "100%|████████████████████████████████████████████████████████| 452/452 [01:53<00:00,  3.99it/s]\n",
      "100%|██████████████████████████████████████████████████████████| 79/79 [00:15<00:00,  5.21it/s]\n"
     ]
    },
    {
     "name": "stdout",
     "output_type": "stream",
     "text": [
      "Epoch : 28 - train loss : 0.0008 - val_loss : 0.0002%\n"
     ]
    },
    {
     "name": "stderr",
     "output_type": "stream",
     "text": [
      "100%|████████████████████████████████████████████████████████| 452/452 [01:53<00:00,  3.99it/s]\n",
      "100%|██████████████████████████████████████████████████████████| 79/79 [00:14<00:00,  5.35it/s]\n"
     ]
    },
    {
     "name": "stdout",
     "output_type": "stream",
     "text": [
      "Epoch : 29 - train loss : 0.0052 - val_loss : 0.0002%\n"
     ]
    },
    {
     "name": "stderr",
     "output_type": "stream",
     "text": [
      "100%|████████████████████████████████████████████████████████| 452/452 [01:53<00:00,  4.00it/s]\n",
      "100%|██████████████████████████████████████████████████████████| 79/79 [00:14<00:00,  5.38it/s]"
     ]
    },
    {
     "name": "stdout",
     "output_type": "stream",
     "text": [
      "Epoch : 30 - train loss : 0.0005 - val_loss : 0.0001%\n"
     ]
    },
    {
     "name": "stderr",
     "output_type": "stream",
     "text": [
      "\n"
     ]
    }
   ],
   "source": [
    "all_train_loss = []\n",
    "all_test_loss = []\n",
    "\n",
    "\n",
    "best_loss = np.inf\n",
    "\n",
    "for epoch in range(epochs):\n",
    "    epoch_loss = 0\n",
    "    model.train()\n",
    "    tr_loss_epoch = []\n",
    "    test_loss_epoch = []\n",
    "    for data, label in tqdm(train_loader):\n",
    "        data = data.to(device)\n",
    "        label = label.to(device)\n",
    "\n",
    "        output = model(data)\n",
    "        loss = criterion(output, label).float()\n",
    "        tr_loss_epoch.append(loss.item())\n",
    "       \n",
    "        optimizer.zero_grad()\n",
    "        loss.backward()\n",
    "        optimizer.step()\n",
    "\n",
    "\n",
    "        epoch_loss += loss / len(train_loader)\n",
    "    scheduler.step()\n",
    "    all_train_loss.append(np.asarray(tr_loss_epoch))\n",
    "\n",
    "\n",
    "    torch.cuda.empty_cache()\n",
    "    with torch.no_grad():\n",
    "        epoch_val_loss = 0\n",
    "        for data, label in tqdm(test_loader):\n",
    "            data = data.to(device)\n",
    "            label = label.to(device)\n",
    "\n",
    "            val_output = model(data)\n",
    "            val_loss = criterion(val_output, label)\n",
    "            test_loss_epoch.append(val_loss.item())\n",
    "\n",
    "            epoch_val_loss += val_loss.item() / len(test_loader)\n",
    "        all_test_loss.append(np.asarray(test_loss_epoch))\n",
    "\n",
    "    if epoch_val_loss < best_loss:\n",
    "        best_loss = epoch_val_loss\n",
    "        best_model = copy.deepcopy(model)\n",
    "\n",
    "    print(\n",
    "        f\"Epoch : {epoch+1} - train loss : {epoch_loss:.4f} - val_loss : {epoch_val_loss:.4f}%\"\n",
    "    )\n",
    "torch.save(best_model.state_dict(), \"equi_nn.pth\")\n",
    "all_train_loss_mean = [j.mean() for j in all_train_loss]\n",
    "all_test_loss_mean = [j.mean() for j in all_test_loss]"
   ]
  },
  {
   "cell_type": "markdown",
   "id": "c6ed3fe3",
   "metadata": {
    "papermill": {
     "duration": 0.088846,
     "end_time": "2023-02-26T18:39:44.489827",
     "exception": false,
     "start_time": "2023-02-26T18:39:44.400981",
     "status": "completed"
    },
    "tags": []
   },
   "source": [
    "# Plotting Loss and Accuracy\n"
   ]
  },
  {
   "cell_type": "code",
   "execution_count": 9,
   "id": "63766ee9",
   "metadata": {
    "execution": {
     "iopub.execute_input": "2023-08-25T13:12:35.139635Z",
     "iopub.status.busy": "2023-08-25T13:12:35.139239Z",
     "iopub.status.idle": "2023-08-25T13:12:35.673947Z",
     "shell.execute_reply": "2023-08-25T13:12:35.673309Z"
    },
    "papermill": {
     "duration": 0.608392,
     "end_time": "2023-02-26T18:39:45.185365",
     "exception": false,
     "start_time": "2023-02-26T18:39:44.576973",
     "status": "completed"
    },
    "tags": []
   },
   "outputs": [
    {
     "data": {
      "text/plain": [
       "[<matplotlib.lines.Line2D at 0x7f8517780a90>]"
      ]
     },
     "execution_count": 9,
     "metadata": {},
     "output_type": "execute_result"
    },
    {
     "data": {
      "image/png": "[encoded data removed]",
      "text/plain": [
       "<Figure size 1200x800 with 2 Axes>"
      ]
     },
     "metadata": {},
     "output_type": "display_data"
    }
   ],
   "source": [
    "figure = plt.figure(figsize=(12, 8))\n",
    "cols, rows = 2, 1\n",
    "figure.add_subplot(rows, cols, 1)\n",
    "plt.title(\"Train loss Mean\")\n",
    "plt.plot(all_train_loss_mean)\n",
    "figure.add_subplot(rows, cols, 2)\n",
    "plt.title(\"Test loss Mean\")\n",
    "plt.plot(all_test_loss_mean)"
   ]
  },
  {
   "cell_type": "markdown",
   "id": "71719fa2",
   "metadata": {
    "papermill": {
     "duration": 0.097537,
     "end_time": "2023-02-26T18:39:45.372772",
     "exception": false,
     "start_time": "2023-02-26T18:39:45.275235",
     "status": "completed"
    },
    "tags": []
   },
   "source": [
    "# Loading Best Model\n"
   ]
  },
  {
   "cell_type": "code",
   "execution_count": 10,
   "id": "d07b2629",
   "metadata": {
    "execution": {
     "iopub.execute_input": "2023-08-25T13:12:35.677075Z",
     "iopub.status.busy": "2023-08-25T13:12:35.676801Z",
     "iopub.status.idle": "2023-08-25T13:12:35.704975Z",
     "shell.execute_reply": "2023-08-25T13:12:35.704344Z"
    },
    "papermill": {
     "duration": 0.167712,
     "end_time": "2023-02-26T18:39:45.629158",
     "exception": false,
     "start_time": "2023-02-26T18:39:45.461446",
     "status": "completed"
    },
    "tags": []
   },
   "outputs": [
    {
     "data": {
      "text/plain": [
       "<All keys matched successfully>"
      ]
     },
     "execution_count": 10,
     "metadata": {},
     "output_type": "execute_result"
    }
   ],
   "source": [
    "model = HN(args).to(device)\n",
    "model.load_state_dict(torch.load(\"equi_nn.pth\"), strict=False)"
   ]
  },
  {
   "cell_type": "markdown",
   "id": "4e685329",
   "metadata": {
    "papermill": {
     "duration": 0.088101,
     "end_time": "2023-02-26T18:39:45.807045",
     "exception": false,
     "start_time": "2023-02-26T18:39:45.718944",
     "status": "completed"
    },
    "tags": []
   },
   "source": [
    "# Testing\n"
   ]
  },
  {
   "cell_type": "code",
   "execution_count": 11,
   "id": "0396ebf0",
   "metadata": {
    "execution": {
     "iopub.execute_input": "2023-08-25T13:12:35.707840Z",
     "iopub.status.busy": "2023-08-25T13:12:35.707571Z",
     "iopub.status.idle": "2023-08-25T13:12:47.886224Z",
     "shell.execute_reply": "2023-08-25T13:12:47.885575Z"
    },
    "papermill": {
     "duration": 0.313634,
     "end_time": "2023-02-26T18:39:52.237506",
     "exception": false,
     "start_time": "2023-02-26T18:39:51.923872",
     "status": "completed"
    },
    "tags": []
   },
   "outputs": [
    {
     "name": "stderr",
     "output_type": "stream",
     "text": [
      "100%|██████████████████████████████████████████████████████████| 79/79 [00:12<00:00,  6.49it/s]"
     ]
    },
    {
     "name": "stdout",
     "output_type": "stream",
     "text": [
      "Average RMSE: 0.011929277601781526\n",
      "Average MSE: 0.00014381265701339993\n",
      "Average MAE: 0.009442507289350033\n"
     ]
    },
    {
     "name": "stderr",
     "output_type": "stream",
     "text": [
      "\n"
     ]
    }
   ],
   "source": [
    "import torch.nn.functional as F\n",
    "with torch.no_grad():\n",
    "    model.eval()\n",
    "    rmse_list = []\n",
    "    mse_list = []\n",
    "    mae_list = []\n",
    "    \n",
    "    for i, (x, y) in enumerate(tqdm(test_loader)):\n",
    "        x = x.to(device)\n",
    "        y = y.to(device)\n",
    "        _y = model(x)\n",
    "        \n",
    "        # Calculate metrics\n",
    "        rmse = torch.sqrt(F.mse_loss(_y, y))\n",
    "        mse = F.mse_loss(_y, y)\n",
    "        mae = F.l1_loss(_y, y)\n",
    "        \n",
    "        rmse_list.append(rmse.item())\n",
    "        mse_list.append(mse.item())\n",
    "        mae_list.append(mae.item())\n",
    "\n",
    "# Calculate overall metrics\n",
    "avg_rmse = np.mean(rmse_list)\n",
    "avg_mse = np.mean(mse_list)\n",
    "avg_mae = np.mean(mae_list)\n",
    "\n",
    "print(\"Average RMSE:\", avg_rmse)\n",
    "print(\"Average MSE:\", avg_mse)\n",
    "print(\"Average MAE:\", avg_mae)"
   ]
  }
 ],
 "metadata": {
  "kernelspec": {
   "display_name": "Python 3 (ipykernel)",
   "language": "python",
   "name": "python3"
  },
  "language_info": {
   "codemirror_mode": {
    "name": "ipython",
    "version": 3
   },
   "file_extension": ".py",
   "mimetype": "text/x-python",
   "name": "python",
   "nbconvert_exporter": "python",
   "pygments_lexer": "ipython3",
   "version": "3.10.12"
  },
  "papermill": {
   "default_parameters": {},
   "duration": 1183.333041,
   "end_time": "2023-02-26T18:39:54.458046",
   "environment_variables": {},
   "exception": null,
   "input_path": "__notebook__.ipynb",
   "output_path": "__notebook__.ipynb",
   "parameters": {},
   "start_time": "2023-02-26T18:20:11.125005",
   "version": "2.4.0"
  },
  "vscode": {
   "interpreter": {
    "hash": "916dbcbb3f70747c44a77c7bcd40155683ae19c65e1c03b4aa3499c5328201f1"
   }
  }
 },
 "nbformat": 4,
 "nbformat_minor": 5
}

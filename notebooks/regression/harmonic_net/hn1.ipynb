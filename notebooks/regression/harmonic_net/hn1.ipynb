{
 "cells": [
  {
   "cell_type": "markdown",
   "id": "28a9bc22",
   "metadata": {
    "papermill": {
     "duration": 0.004836,
     "end_time": "2023-02-26T18:20:33.518827",
     "exception": false,
     "start_time": "2023-02-26T18:20:33.513991",
     "status": "completed"
    },
    "tags": []
   },
   "source": [
    "# C8Steerable CNN\n"
   ]
  },
  {
   "cell_type": "code",
   "execution_count": 1,
   "id": "4913b545",
   "metadata": {
    "execution": {
     "iopub.execute_input": "2023-07-19T05:04:59.050106Z",
     "iopub.status.busy": "2023-07-19T05:04:59.049861Z",
     "iopub.status.idle": "2023-07-19T05:07:24.101157Z",
     "shell.execute_reply": "2023-07-19T05:07:24.100305Z"
    }
   },
   "outputs": [
    {
     "name": "stderr",
     "output_type": "stream",
     "text": [
      "Downloading...\n",
      "From (uriginal): https://drive.google.com/uc?id=1QMVLpqag6S9JWqzmGM_pK4C0F1eBVIfV\n",
      "From (redirected): https://drive.google.com/uc?id=1QMVLpqag6S9JWqzmGM_pK4C0F1eBVIfV&confirm=t&uuid=96df969a-6965-47eb-a2e9-e8d029ba0a19\n",
      "To: /opt/repo/GSoC-23/data/Model_I.tgz\n",
      "100%|██████████████████████████████████████████████████████| 1.99G/1.99G [00:10<00:00, 194MB/s]\n",
      "Downloading...\n",
      "From (uriginal): https://drive.google.com/uc?id=1rUAKLLS3p9jDaL9R9m84JVKvMcUuVsO1\n",
      "From (redirected): https://drive.google.com/uc?id=1rUAKLLS3p9jDaL9R9m84JVKvMcUuVsO1&confirm=t&uuid=1ad6fdea-1d89-4414-995c-b9ca602e56af\n",
      "To: /opt/repo/GSoC-23/data/Model_I_test.tgz\n",
      "100%|███████████████████████████████████████████████████████| 340M/340M [00:08<00:00, 37.9MB/s]\n"
     ]
    }
   ],
   "source": [
    "try:\n",
    "    done\n",
    "except:\n",
    "    import os\n",
    "\n",
    "    os.chdir(\"../../../\")\n",
    "    from utils.download import download\n",
    "    from utils.extract import extract\n",
    "\n",
    "    args = {\"model\": \"Model-1\"}\n",
    "    download(args)\n",
    "    extract(\"data/Model_I.tgz\", \"data/\")\n",
    "    extract(\"data/Model_I_test.tgz\", \"data/\")\n",
    "    done = True"
   ]
  },
  {
   "cell_type": "code",
   "execution_count": 5,
   "id": "7db64282",
   "metadata": {
    "_cell_guid": "b1076dfc-b9ad-4769-8c92-a6c4dae69d19",
    "_uuid": "8f2839f25d086af736a60e9eeb907d3b93b6e0e5",
    "execution": {
     "iopub.execute_input": "2023-07-19T05:07:24.105263Z",
     "iopub.status.busy": "2023-07-19T05:07:24.104924Z",
     "iopub.status.idle": "2023-07-19T05:07:27.199278Z",
     "shell.execute_reply": "2023-07-19T05:07:27.198345Z"
    },
    "papermill": {
     "duration": 4.22969,
     "end_time": "2023-02-26T18:20:37.753361",
     "exception": false,
     "start_time": "2023-02-26T18:20:33.523671",
     "status": "completed"
    },
    "tags": []
   },
   "outputs": [],
   "source": [
    "import copy\n",
    "import warnings\n",
    "\n",
    "import matplotlib.pyplot as plt\n",
    "import numpy as np\n",
    "import torch\n",
    "import torch.optim as optim\n",
    "import torchvision.datasets as datasets\n",
    "import torchvision.transforms as transforms\n",
    "\n",
    "from itertools import cycle\n",
    "from PIL import Image\n",
    "from sklearn.metrics import (\n",
    "    auc,\n",
    "    confusion_matrix,\n",
    "    ConfusionMatrixDisplay,\n",
    "    roc_auc_score,\n",
    "    roc_curve,\n",
    ")\n",
    "from torch import optim\n",
    "from torch.utils.data import Dataset, DataLoader\n",
    "from torchvision import datasets, transforms\n",
    "\n",
    "\n",
    "from tqdm import tqdm\n",
    "\n",
    "warnings.filterwarnings(\"ignore\")"
   ]
  },
  {
   "cell_type": "markdown",
   "id": "8b7df613",
   "metadata": {
    "papermill": {
     "duration": 0.00477,
     "end_time": "2023-02-26T18:20:37.763344",
     "exception": false,
     "start_time": "2023-02-26T18:20:37.758574",
     "status": "completed"
    },
    "tags": []
   },
   "source": [
    "# Data Preparation\n"
   ]
  },
  {
   "cell_type": "code",
   "execution_count": 3,
   "id": "98c728a5",
   "metadata": {
    "execution": {
     "iopub.execute_input": "2023-07-19T05:07:27.203265Z",
     "iopub.status.busy": "2023-07-19T05:07:27.202767Z",
     "iopub.status.idle": "2023-07-19T05:07:27.208049Z",
     "shell.execute_reply": "2023-07-19T05:07:27.207357Z"
    }
   },
   "outputs": [],
   "source": [
    "train_transforms = transforms.Compose([\n",
    "    transforms.RandomRotation(180),\n",
    "    transforms.ColorJitter(brightness=(0.8, 1.2)),\n",
    "    transforms.Resize(128),\n",
    "    transforms.Grayscale(num_output_channels=1),\n",
    "    transforms.ToTensor()\n",
    "])\n",
    "\n",
    "test_transforms = transforms.Compose([\n",
    "    transforms.Resize(128),\n",
    "    transforms.Grayscale(num_output_channels=1),\n",
    "    transforms.ToTensor()\n",
    "])"
   ]
  },
  {
   "cell_type": "code",
   "execution_count": 6,
   "id": "e11b8596",
   "metadata": {
    "execution": {
     "iopub.execute_input": "2023-07-19T05:07:27.211277Z",
     "iopub.status.busy": "2023-07-19T05:07:27.210755Z",
     "iopub.status.idle": "2023-07-19T05:07:27.517957Z",
     "shell.execute_reply": "2023-07-19T05:07:27.517129Z"
    },
    "papermill": {
     "duration": 0.018594,
     "end_time": "2023-02-26T18:20:37.786759",
     "exception": false,
     "start_time": "2023-02-26T18:20:37.768165",
     "status": "completed"
    },
    "tags": []
   },
   "outputs": [],
   "source": [
    "class AxionDataset(Dataset):\n",
    "    def __init__(self, root_dir, transform=None):\n",
    "        self.root_dir = root_dir\n",
    "        self.transform = transform\n",
    "        self.class_name = \"axion\"\n",
    "        self.class_folder = os.path.join(self.root_dir, self.class_name)\n",
    "        self.file_list = [f for f in os.listdir(self.class_folder) if f.endswith('.npy')]\n",
    "\n",
    "    def __len__(self):\n",
    "        return len(self.file_list)\n",
    "\n",
    "    def __getitem__(self, idx):\n",
    "        if torch.is_tensor(idx):\n",
    "            idx = idx.tolist()\n",
    "\n",
    "        file_name = self.file_list[idx]\n",
    "        file_path = os.path.join(self.class_folder, file_name)\n",
    "        data = np.load(file_path, allow_pickle=True)\n",
    "        image = data[0]\n",
    "        weight = data[1]\n",
    "        image = 255 * (image / image.max())\n",
    "        image = Image.fromarray(image.astype('uint8')).convert(\"RGB\")\n",
    "        if self.transform:\n",
    "            image = self.transform(image)\n",
    "\n",
    "        return image.float(), weight.astype('float32')\n",
    "    \n",
    "\n",
    "trainset = AxionDataset(\n",
    "    root_dir='data/Model_I',\n",
    "    transform = train_transforms\n",
    ")\n",
    "\n",
    "testset = AxionDataset(\n",
    "    root_dir='data/Model_I_test',\n",
    "    transform = test_transforms\n",
    ")\n",
    "\n",
    "train_loader = torch.utils.data.DataLoader(trainset, batch_size=64,shuffle=True)\n",
    "test_loader = torch.utils.data.DataLoader(testset, batch_size=64,shuffle=True)"
   ]
  },
  {
   "cell_type": "code",
   "execution_count": 12,
   "id": "c541bb71",
   "metadata": {
    "execution": {
     "iopub.execute_input": "2023-07-19T05:07:27.521580Z",
     "iopub.status.busy": "2023-07-19T05:07:27.521226Z",
     "iopub.status.idle": "2023-07-19T05:07:27.576288Z",
     "shell.execute_reply": "2023-07-19T05:07:27.575433Z"
    },
    "papermill": {
     "duration": 0.288414,
     "end_time": "2023-02-26T18:20:38.079912",
     "exception": false,
     "start_time": "2023-02-26T18:20:37.791498",
     "status": "completed"
    },
    "tags": []
   },
   "outputs": [],
   "source": [
    "lr = 0.0001\n",
    "epochs = 10\n",
    "gamma = 0.7\n",
    "batch_size = 64\n",
    "device = \"cuda\" if torch.cuda.is_available() else \"cpu\""
   ]
  },
  {
   "cell_type": "markdown",
   "id": "337703e9",
   "metadata": {
    "papermill": {
     "duration": 0.005167,
     "end_time": "2023-02-26T18:20:38.096424",
     "exception": false,
     "start_time": "2023-02-26T18:20:38.091257",
     "status": "completed"
    },
    "tags": []
   },
   "source": [
    "# Model\n"
   ]
  },
  {
   "cell_type": "code",
   "execution_count": 9,
   "id": "5905f15d",
   "metadata": {
    "execution": {
     "iopub.execute_input": "2023-07-19T05:07:27.579775Z",
     "iopub.status.busy": "2023-07-19T05:07:27.579196Z",
     "iopub.status.idle": "2023-07-19T05:07:27.583479Z",
     "shell.execute_reply": "2023-07-19T05:07:27.582769Z"
    }
   },
   "outputs": [],
   "source": [
    "class args: ...\n",
    "args.batch_size = 64\n",
    "args.std_mult = 0.7\n",
    "args.filter_gain = 2\n",
    "args.filter_size = 5\n",
    "args.n_rings = 4\n",
    "args.n_filters = 8 \n",
    "args.dim = 128\n",
    "args.n_classes = 1"
   ]
  },
  {
   "cell_type": "code",
   "execution_count": 10,
   "id": "e7b978f6",
   "metadata": {
    "execution": {
     "iopub.execute_input": "2023-07-19T05:07:27.586286Z",
     "iopub.status.busy": "2023-07-19T05:07:27.586035Z",
     "iopub.status.idle": "2023-07-19T05:07:30.132351Z",
     "shell.execute_reply": "2023-07-19T05:07:30.131393Z"
    },
    "papermill": {
     "duration": 0.028747,
     "end_time": "2023-02-26T18:20:38.130529",
     "exception": false,
     "start_time": "2023-02-26T18:20:38.101782",
     "status": "completed"
    },
    "tags": []
   },
   "outputs": [],
   "source": [
    "from models import HN\n",
    "\n",
    "model = HN(args).to(device)\n",
    "\n",
    "criterion = torch.nn.MSELoss()\n",
    "optimizer = optim.Adam(model.parameters(), lr=lr)\n",
    "scheduler = optim.lr_scheduler.StepLR(optimizer, step_size=5, gamma=gamma)"
   ]
  },
  {
   "cell_type": "markdown",
   "id": "6d5d9ce7",
   "metadata": {
    "papermill": {
     "duration": 0.004681,
     "end_time": "2023-02-26T18:20:49.389497",
     "exception": false,
     "start_time": "2023-02-26T18:20:49.384816",
     "status": "completed"
    },
    "tags": []
   },
   "source": [
    "# Training\n"
   ]
  },
  {
   "cell_type": "code",
   "execution_count": 13,
   "id": "b6bd0abb",
   "metadata": {
    "execution": {
     "iopub.execute_input": "2023-07-19T05:07:30.136537Z",
     "iopub.status.busy": "2023-07-19T05:07:30.136072Z",
     "iopub.status.idle": "2023-07-19T06:44:17.154308Z",
     "shell.execute_reply": "2023-07-19T06:44:17.153453Z"
    },
    "papermill": {
     "duration": 1134.918433,
     "end_time": "2023-02-26T18:39:44.312733",
     "exception": false,
     "start_time": "2023-02-26T18:20:49.394300",
     "status": "completed"
    },
    "tags": []
   },
   "outputs": [
    {
     "name": "stderr",
     "output_type": "stream",
     "text": [
      "100%|████████████████████████████████████████████████████████| 452/452 [01:53<00:00,  3.98it/s]\n",
      "100%|██████████████████████████████████████████████████████████| 79/79 [00:14<00:00,  5.43it/s]"
     ]
    },
    {
     "name": "stdout",
     "output_type": "stream",
     "text": [
      "Epoch : 1 - train loss : 55.5228 - val_loss : 7.3723%\n"
     ]
    },
    {
     "name": "stderr",
     "output_type": "stream",
     "text": [
      "\n"
     ]
    }
   ],
   "source": [
    "all_train_loss = []\n",
    "all_test_loss = []\n",
    "\n",
    "\n",
    "best_loss = np.inf\n",
    "\n",
    "for epoch in range(epochs):\n",
    "    epoch_loss = 0\n",
    "    model.train()\n",
    "    tr_loss_epoch = []\n",
    "    test_loss_epoch = []\n",
    "    for data, label in tqdm(train_loader):\n",
    "        data = data.to(device)\n",
    "        label = label.to(device)\n",
    "\n",
    "        output = model(data)\n",
    "        loss = criterion(output, label).float()\n",
    "        tr_loss_epoch.append(loss.item())\n",
    "       \n",
    "        optimizer.zero_grad()\n",
    "        loss.backward()\n",
    "        optimizer.step()\n",
    "\n",
    "\n",
    "        epoch_loss += loss / len(train_loader)\n",
    "    scheduler.step()\n",
    "    all_train_loss.append(np.asarray(tr_loss_epoch))\n",
    "\n",
    "\n",
    "    torch.cuda.empty_cache()\n",
    "    with torch.no_grad():\n",
    "        epoch_val_loss = 0\n",
    "        for data, label in tqdm(test_loader):\n",
    "            data = data.to(device)\n",
    "            label = label.to(device)\n",
    "\n",
    "            val_output = model(data)\n",
    "            val_loss = criterion(val_output, label)\n",
    "            test_loss_epoch.append(val_loss.item())\n",
    "\n",
    "            epoch_val_loss += val_loss.item() / len(test_loader)\n",
    "        all_test_loss.append(np.asarray(test_loss_epoch))\n",
    "\n",
    "    if epoch_val_loss < best_loss:\n",
    "        best_loss = epoch_val_loss\n",
    "        best_model = copy.deepcopy(model)\n",
    "\n",
    "    print(\n",
    "        f\"Epoch : {epoch+1} - train loss : {epoch_loss:.4f} - val_loss : {epoch_val_loss:.4f}%\"\n",
    "    )\n",
    "torch.save(best_model.state_dict(), \"equi_nn.pth\")\n",
    "all_train_loss_mean = [j.mean() for j in all_train_loss]\n",
    "all_test_loss_mean = [j.mean() for j in all_test_loss]"
   ]
  },
  {
   "cell_type": "markdown",
   "id": "c6ed3fe3",
   "metadata": {
    "papermill": {
     "duration": 0.088846,
     "end_time": "2023-02-26T18:39:44.489827",
     "exception": false,
     "start_time": "2023-02-26T18:39:44.400981",
     "status": "completed"
    },
    "tags": []
   },
   "source": [
    "# Plotting Loss and Accuracy\n"
   ]
  },
  {
   "cell_type": "code",
   "execution_count": 14,
   "id": "63766ee9",
   "metadata": {
    "execution": {
     "iopub.execute_input": "2023-07-19T06:44:17.158130Z",
     "iopub.status.busy": "2023-07-19T06:44:17.157868Z",
     "iopub.status.idle": "2023-07-19T06:44:17.933410Z",
     "shell.execute_reply": "2023-07-19T06:44:17.932686Z"
    },
    "papermill": {
     "duration": 0.608392,
     "end_time": "2023-02-26T18:39:45.185365",
     "exception": false,
     "start_time": "2023-02-26T18:39:44.576973",
     "status": "completed"
    },
    "tags": []
   },
   "outputs": [
    {
     "data": {
      "text/plain": [
       "[<matplotlib.lines.Line2D at 0x7f2e2a95dff0>]"
      ]
     },
     "execution_count": 14,
     "metadata": {},
     "output_type": "execute_result"
    },
    {
     "data": {
      "image/png": "[encoded data removed]",
      "text/plain": [
       "<Figure size 1200x800 with 2 Axes>"
      ]
     },
     "metadata": {},
     "output_type": "display_data"
    }
   ],
   "source": [
    "figure = plt.figure(figsize=(12, 8))\n",
    "cols, rows = 2, 1\n",
    "figure.add_subplot(rows, cols, 1)\n",
    "plt.title(\"Train loss Mean\")\n",
    "plt.plot(all_train_loss_mean)\n",
    "figure.add_subplot(rows, cols, 2)\n",
    "plt.title(\"Test loss Mean\")\n",
    "plt.plot(all_test_loss_mean)"
   ]
  },
  {
   "cell_type": "markdown",
   "id": "71719fa2",
   "metadata": {
    "papermill": {
     "duration": 0.097537,
     "end_time": "2023-02-26T18:39:45.372772",
     "exception": false,
     "start_time": "2023-02-26T18:39:45.275235",
     "status": "completed"
    },
    "tags": []
   },
   "source": [
    "# Loading Best Model\n"
   ]
  },
  {
   "cell_type": "code",
   "execution_count": 15,
   "id": "d07b2629",
   "metadata": {
    "execution": {
     "iopub.execute_input": "2023-07-19T06:44:17.936576Z",
     "iopub.status.busy": "2023-07-19T06:44:17.936319Z",
     "iopub.status.idle": "2023-07-19T06:44:17.957818Z",
     "shell.execute_reply": "2023-07-19T06:44:17.957191Z"
    },
    "papermill": {
     "duration": 0.167712,
     "end_time": "2023-02-26T18:39:45.629158",
     "exception": false,
     "start_time": "2023-02-26T18:39:45.461446",
     "status": "completed"
    },
    "tags": []
   },
   "outputs": [
    {
     "data": {
      "text/plain": [
       "<All keys matched successfully>"
      ]
     },
     "execution_count": 15,
     "metadata": {},
     "output_type": "execute_result"
    }
   ],
   "source": [
    "model = HN(args).to(device)\n",
    "model.load_state_dict(torch.load(\"equi_nn.pth\"), strict=False)"
   ]
  },
  {
   "cell_type": "markdown",
   "id": "4e685329",
   "metadata": {
    "papermill": {
     "duration": 0.088101,
     "end_time": "2023-02-26T18:39:45.807045",
     "exception": false,
     "start_time": "2023-02-26T18:39:45.718944",
     "status": "completed"
    },
    "tags": []
   },
   "source": [
    "# Testing\n"
   ]
  },
  {
   "cell_type": "code",
   "execution_count": 16,
   "id": "0396ebf0",
   "metadata": {
    "execution": {
     "iopub.execute_input": "2023-07-19T06:45:00.174180Z",
     "iopub.status.busy": "2023-07-19T06:45:00.173919Z",
     "iopub.status.idle": "2023-07-19T06:45:00.448023Z",
     "shell.execute_reply": "2023-07-19T06:45:00.447341Z"
    },
    "papermill": {
     "duration": 0.313634,
     "end_time": "2023-02-26T18:39:52.237506",
     "exception": false,
     "start_time": "2023-02-26T18:39:51.923872",
     "status": "completed"
    },
    "tags": []
   },
   "outputs": [
    {
     "name": "stderr",
     "output_type": "stream",
     "text": [
      "100%|██████████████████████████████████████████████████████████| 79/79 [00:12<00:00,  6.51it/s]\n"
     ]
    },
    {
     "name": "stdout",
     "output_type": "stream",
     "text": [
      "Average RMSE: 2.774680210065238\n",
      "Average MSE: 7.6995842788792865\n",
      "Average MAE: 2.766869016840488\n"
     ]
    }
   ],
   "source": [
    "import torch.nn.functional as F\n",
    "with torch.no_grad():\n",
    "    model.eval()\n",
    "    rmse_list = []\n",
    "    mse_list = []\n",
    "    mae_list = []\n",
    "    \n",
    "    for i, (x, y) in enumerate(tqdm(test_loader)):\n",
    "        x = x.to(device)\n",
    "        y = y.to(device)\n",
    "        _y = model(x)\n",
    "        \n",
    "        # Calculate metrics\n",
    "        rmse = torch.sqrt(F.mse_loss(_y, y))\n",
    "        mse = F.mse_loss(_y, y)\n",
    "        mae = F.l1_loss(_y, y)\n",
    "        \n",
    "        rmse_list.append(rmse.item())\n",
    "        mse_list.append(mse.item())\n",
    "        mae_list.append(mae.item())\n",
    "\n",
    "# Calculate overall metrics\n",
    "avg_rmse = np.mean(rmse_list)\n",
    "avg_mse = np.mean(mse_list)\n",
    "avg_mae = np.mean(mae_list)\n",
    "\n",
    "print(\"Average RMSE:\", avg_rmse)\n",
    "print(\"Average MSE:\", avg_mse)\n",
    "print(\"Average MAE:\", avg_mae)"
   ]
  }
 ],
 "metadata": {
  "kernelspec": {
   "display_name": "Python 3 (ipykernel)",
   "language": "python",
   "name": "python3"
  },
  "language_info": {
   "codemirror_mode": {
    "name": "ipython",
    "version": 3
   },
   "file_extension": ".py",
   "mimetype": "text/x-python",
   "name": "python",
   "nbconvert_exporter": "python",
   "pygments_lexer": "ipython3",
   "version": "3.10.12"
  },
  "papermill": {
   "default_parameters": {},
   "duration": 1183.333041,
   "end_time": "2023-02-26T18:39:54.458046",
   "environment_variables": {},
   "exception": null,
   "input_path": "__notebook__.ipynb",
   "output_path": "__notebook__.ipynb",
   "parameters": {},
   "start_time": "2023-02-26T18:20:11.125005",
   "version": "2.4.0"
  },
  "vscode": {
   "interpreter": {
    "hash": "916dbcbb3f70747c44a77c7bcd40155683ae19c65e1c03b4aa3499c5328201f1"
   }
  }
 },
 "nbformat": 4,
 "nbformat_minor": 5
}

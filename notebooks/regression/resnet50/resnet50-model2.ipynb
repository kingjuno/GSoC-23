{
 "cells": [
  {
   "cell_type": "markdown",
   "id": "28a9bc22",
   "metadata": {
    "papermill": {
     "duration": 0.004836,
     "end_time": "2023-02-26T18:20:33.518827",
     "exception": false,
     "start_time": "2023-02-26T18:20:33.513991",
     "status": "completed"
    },
    "tags": []
   },
   "source": [
    "# C8Steerable CNN\n"
   ]
  },
  {
   "cell_type": "code",
   "execution_count": 1,
   "id": "4913b545",
   "metadata": {},
   "outputs": [],
   "source": [
    "try:\n",
    "    done\n",
    "except:\n",
    "    import os\n",
    "\n",
    "    os.chdir(\"../../../\")\n",
    "    from utils.download import download\n",
    "    from utils.extract import extract\n",
    "\n",
    "    args = {\"model\": \"Model-2\"}\n",
    "    download(args)\n",
    "    extract(\"data/Model_II.tgz\", \"data/\")\n",
    "    extract(\"data/Model_II_test.tgz\", \"data/\")\n",
    "    done = True"
   ]
  },
  {
   "cell_type": "code",
   "execution_count": 2,
   "id": "7db64282",
   "metadata": {
    "_cell_guid": "b1076dfc-b9ad-4769-8c92-a6c4dae69d19",
    "_uuid": "8f2839f25d086af736a60e9eeb907d3b93b6e0e5",
    "papermill": {
     "duration": 4.22969,
     "end_time": "2023-02-26T18:20:37.753361",
     "exception": false,
     "start_time": "2023-02-26T18:20:33.523671",
     "status": "completed"
    },
    "tags": []
   },
   "outputs": [],
   "source": [
    "import copy\n",
    "import warnings\n",
    "\n",
    "import matplotlib.pyplot as plt\n",
    "import numpy as np\n",
    "import torch\n",
    "import torch.optim as optim\n",
    "import torchvision\n",
    "import torchvision.datasets as datasets\n",
    "import torchvision.transforms as transforms\n",
    "\n",
    "from itertools import cycle\n",
    "from PIL import Image\n",
    "from sklearn.metrics import (\n",
    "    auc,\n",
    "    confusion_matrix,\n",
    "    ConfusionMatrixDisplay,\n",
    "    roc_auc_score,\n",
    "    roc_curve,\n",
    ")\n",
    "from torch import optim\n",
    "from torch.utils.data import Dataset, DataLoader\n",
    "from torchvision import datasets, transforms\n",
    "\n",
    "\n",
    "from tqdm import tqdm\n",
    "\n",
    "warnings.filterwarnings(\"ignore\")"
   ]
  },
  {
   "cell_type": "markdown",
   "id": "8b7df613",
   "metadata": {
    "papermill": {
     "duration": 0.00477,
     "end_time": "2023-02-26T18:20:37.763344",
     "exception": false,
     "start_time": "2023-02-26T18:20:37.758574",
     "status": "completed"
    },
    "tags": []
   },
   "source": [
    "# Data Preparation\n"
   ]
  },
  {
   "cell_type": "code",
   "execution_count": 3,
   "id": "98c728a5",
   "metadata": {},
   "outputs": [],
   "source": [
    "train_transforms = transforms.Compose([\n",
    "    transforms.Resize(128),\n",
    "    transforms.Grayscale(num_output_channels=3),\n",
    "    transforms.ToTensor()\n",
    "])\n",
    "\n",
    "test_transforms = transforms.Compose([\n",
    "    transforms.Resize(128),\n",
    "    transforms.Grayscale(num_output_channels=3),\n",
    "    transforms.ToTensor()\n",
    "])"
   ]
  },
  {
   "cell_type": "code",
   "execution_count": 4,
   "id": "e11b8596",
   "metadata": {
    "papermill": {
     "duration": 0.018594,
     "end_time": "2023-02-26T18:20:37.786759",
     "exception": false,
     "start_time": "2023-02-26T18:20:37.768165",
     "status": "completed"
    },
    "tags": []
   },
   "outputs": [],
   "source": [
    "class AxionDataset(Dataset):\n",
    "    def __init__(self, root_dir, transform=None):\n",
    "        self.root_dir = root_dir\n",
    "        self.transform = transform\n",
    "        self.class_name = \"axion\"\n",
    "        self.class_folder = os.path.join(self.root_dir, self.class_name)\n",
    "        self.file_list = [f for f in os.listdir(self.class_folder) if f.endswith('.npy')]\n",
    "\n",
    "    def __len__(self):\n",
    "        return len(self.file_list)\n",
    "\n",
    "    def __getitem__(self, idx):\n",
    "        if torch.is_tensor(idx):\n",
    "            idx = idx.tolist()\n",
    "\n",
    "        file_name = self.file_list[idx]\n",
    "        file_path = os.path.join(self.class_folder, file_name)\n",
    "        data = np.load(file_path, allow_pickle=True)\n",
    "        image = data[0]\n",
    "        weight = data[1]\n",
    "        image = 255 * (image / image.max())\n",
    "        image = Image.fromarray(image.astype('uint8')).convert(\"RGB\")\n",
    "        if self.transform:\n",
    "            image = self.transform(image)\n",
    "\n",
    "        return image.float(), weight.astype('float32')\n",
    "    \n",
    "\n",
    "trainset = AxionDataset(\n",
    "    root_dir='data/Model_II',\n",
    "    transform = train_transforms\n",
    ")\n",
    "\n",
    "testset = AxionDataset(\n",
    "    root_dir='data/Model_II_test',\n",
    "    transform = test_transforms\n",
    ")\n",
    "\n",
    "train_loader = torch.utils.data.DataLoader(trainset, batch_size=64,shuffle=True)\n",
    "test_loader = torch.utils.data.DataLoader(testset, batch_size=64,shuffle=True)"
   ]
  },
  {
   "cell_type": "code",
   "execution_count": 5,
   "id": "c541bb71",
   "metadata": {
    "papermill": {
     "duration": 0.288414,
     "end_time": "2023-02-26T18:20:38.079912",
     "exception": false,
     "start_time": "2023-02-26T18:20:37.791498",
     "status": "completed"
    },
    "tags": []
   },
   "outputs": [],
   "source": [
    "lr = 0.0001\n",
    "epochs = 10\n",
    "gamma = 0.7\n",
    "batch_size = 64\n",
    "device = \"cuda\" if torch.cuda.is_available() else \"cpu\""
   ]
  },
  {
   "cell_type": "markdown",
   "id": "337703e9",
   "metadata": {
    "papermill": {
     "duration": 0.005167,
     "end_time": "2023-02-26T18:20:38.096424",
     "exception": false,
     "start_time": "2023-02-26T18:20:38.091257",
     "status": "completed"
    },
    "tags": []
   },
   "source": [
    "# Model\n"
   ]
  },
  {
   "cell_type": "code",
   "execution_count": 13,
   "id": "e7b978f6",
   "metadata": {
    "papermill": {
     "duration": 0.028747,
     "end_time": "2023-02-26T18:20:38.130529",
     "exception": false,
     "start_time": "2023-02-26T18:20:38.101782",
     "status": "completed"
    },
    "tags": []
   },
   "outputs": [],
   "source": [
    "model = torchvision.models.resnet50(pretrained=False)\n",
    "model.fc = torch.nn.Linear(2048, 1, bias=True)\n",
    "model = model.to(device)\n",
    "criterion = torch.nn.MSELoss()\n",
    "optimizer = torch.optim.Adam(model.parameters(), lr=lr, weight_decay=1e-5)\n",
    "scheduler = optim.lr_scheduler.StepLR(optimizer, step_size=15)"
   ]
  },
  {
   "cell_type": "markdown",
   "id": "6d5d9ce7",
   "metadata": {
    "papermill": {
     "duration": 0.004681,
     "end_time": "2023-02-26T18:20:49.389497",
     "exception": false,
     "start_time": "2023-02-26T18:20:49.384816",
     "status": "completed"
    },
    "tags": []
   },
   "source": [
    "# Training\n"
   ]
  },
  {
   "cell_type": "code",
   "execution_count": 14,
   "id": "b6bd0abb",
   "metadata": {
    "papermill": {
     "duration": 1134.918433,
     "end_time": "2023-02-26T18:39:44.312733",
     "exception": false,
     "start_time": "2023-02-26T18:20:49.394300",
     "status": "completed"
    },
    "tags": []
   },
   "outputs": [
    {
     "name": "stderr",
     "output_type": "stream",
     "text": [
      "100%|███████████████████████████████████████████████████| 468/468 [01:05<00:00,  7.16it/s]\n",
      "100%|█████████████████████████████████████████████████████| 79/79 [00:08<00:00,  9.18it/s]\n"
     ]
    },
    {
     "name": "stdout",
     "output_type": "stream",
     "text": [
      "Epoch : 1 - train loss : 0.0104 - val_loss : 0.0057%\n"
     ]
    },
    {
     "name": "stderr",
     "output_type": "stream",
     "text": [
      "100%|███████████████████████████████████████████████████| 468/468 [01:05<00:00,  7.19it/s]\n",
      "100%|█████████████████████████████████████████████████████| 79/79 [00:08<00:00,  9.74it/s]\n"
     ]
    },
    {
     "name": "stdout",
     "output_type": "stream",
     "text": [
      "Epoch : 2 - train loss : 0.0028 - val_loss : 0.0029%\n"
     ]
    },
    {
     "name": "stderr",
     "output_type": "stream",
     "text": [
      "100%|███████████████████████████████████████████████████| 468/468 [01:06<00:00,  7.08it/s]\n",
      "100%|█████████████████████████████████████████████████████| 79/79 [00:07<00:00,  9.95it/s]\n"
     ]
    },
    {
     "name": "stdout",
     "output_type": "stream",
     "text": [
      "Epoch : 3 - train loss : 0.0026 - val_loss : 0.0013%\n"
     ]
    },
    {
     "name": "stderr",
     "output_type": "stream",
     "text": [
      "100%|███████████████████████████████████████████████████| 468/468 [01:07<00:00,  6.94it/s]\n",
      "100%|█████████████████████████████████████████████████████| 79/79 [00:08<00:00,  9.73it/s]\n"
     ]
    },
    {
     "name": "stdout",
     "output_type": "stream",
     "text": [
      "Epoch : 4 - train loss : 0.0013 - val_loss : 0.0007%\n"
     ]
    },
    {
     "name": "stderr",
     "output_type": "stream",
     "text": [
      "100%|███████████████████████████████████████████████████| 468/468 [01:07<00:00,  6.98it/s]\n",
      "100%|█████████████████████████████████████████████████████| 79/79 [00:08<00:00,  9.10it/s]\n"
     ]
    },
    {
     "name": "stdout",
     "output_type": "stream",
     "text": [
      "Epoch : 5 - train loss : 0.0013 - val_loss : 0.0006%\n"
     ]
    },
    {
     "name": "stderr",
     "output_type": "stream",
     "text": [
      "100%|███████████████████████████████████████████████████| 468/468 [01:07<00:00,  6.94it/s]\n",
      "100%|█████████████████████████████████████████████████████| 79/79 [00:08<00:00,  9.86it/s]\n"
     ]
    },
    {
     "name": "stdout",
     "output_type": "stream",
     "text": [
      "Epoch : 6 - train loss : 0.0014 - val_loss : 0.0009%\n"
     ]
    },
    {
     "name": "stderr",
     "output_type": "stream",
     "text": [
      "100%|███████████████████████████████████████████████████| 468/468 [01:08<00:00,  6.87it/s]\n",
      "100%|█████████████████████████████████████████████████████| 79/79 [00:08<00:00,  9.72it/s]\n"
     ]
    },
    {
     "name": "stdout",
     "output_type": "stream",
     "text": [
      "Epoch : 7 - train loss : 0.0009 - val_loss : 0.0008%\n"
     ]
    },
    {
     "name": "stderr",
     "output_type": "stream",
     "text": [
      "100%|███████████████████████████████████████████████████| 468/468 [01:08<00:00,  6.85it/s]\n",
      "100%|█████████████████████████████████████████████████████| 79/79 [00:08<00:00,  9.83it/s]\n"
     ]
    },
    {
     "name": "stdout",
     "output_type": "stream",
     "text": [
      "Epoch : 8 - train loss : 0.0006 - val_loss : 0.0002%\n"
     ]
    },
    {
     "name": "stderr",
     "output_type": "stream",
     "text": [
      "100%|███████████████████████████████████████████████████| 468/468 [01:08<00:00,  6.88it/s]\n",
      "100%|█████████████████████████████████████████████████████| 79/79 [00:08<00:00,  9.75it/s]\n"
     ]
    },
    {
     "name": "stdout",
     "output_type": "stream",
     "text": [
      "Epoch : 9 - train loss : 0.0015 - val_loss : 0.0002%\n"
     ]
    },
    {
     "name": "stderr",
     "output_type": "stream",
     "text": [
      "100%|███████████████████████████████████████████████████| 468/468 [01:10<00:00,  6.68it/s]\n",
      "100%|█████████████████████████████████████████████████████| 79/79 [00:07<00:00,  9.92it/s]\n"
     ]
    },
    {
     "name": "stdout",
     "output_type": "stream",
     "text": [
      "Epoch : 10 - train loss : 0.0008 - val_loss : 0.0030%\n"
     ]
    }
   ],
   "source": [
    "all_train_loss = []\n",
    "all_test_loss = []\n",
    "\n",
    "\n",
    "best_loss = np.inf\n",
    "\n",
    "for epoch in range(epochs):\n",
    "    epoch_loss = 0\n",
    "    model.train()\n",
    "    tr_loss_epoch = []\n",
    "    test_loss_epoch = []\n",
    "    for data, label in tqdm(train_loader):\n",
    "        data = data.to(device)\n",
    "        label = label.to(device)\n",
    "\n",
    "        output = model(data)\n",
    "        loss = criterion(output, label).float()\n",
    "        tr_loss_epoch.append(loss.item())\n",
    "       \n",
    "        optimizer.zero_grad()\n",
    "        loss.backward()\n",
    "        optimizer.step()\n",
    "\n",
    "\n",
    "        epoch_loss += loss / len(train_loader)\n",
    "    scheduler.step()\n",
    "    all_train_loss.append(np.asarray(tr_loss_epoch))\n",
    "\n",
    "\n",
    "    torch.cuda.empty_cache()\n",
    "    with torch.no_grad():\n",
    "        epoch_val_loss = 0\n",
    "        for data, label in tqdm(test_loader):\n",
    "            data = data.to(device)\n",
    "            label = label.to(device)\n",
    "\n",
    "            val_output = model(data)\n",
    "            val_loss = criterion(val_output, label)\n",
    "            test_loss_epoch.append(val_loss.item())\n",
    "\n",
    "            epoch_val_loss += val_loss.item() / len(test_loader)\n",
    "        all_test_loss.append(np.asarray(test_loss_epoch))\n",
    "\n",
    "    if epoch_val_loss < best_loss:\n",
    "        best_loss = epoch_val_loss\n",
    "        best_model = copy.deepcopy(model)\n",
    "\n",
    "    print(\n",
    "        f\"Epoch : {epoch+1} - train loss : {epoch_loss:.4f} - val_loss : {epoch_val_loss:.4f}%\"\n",
    "    )\n",
    "torch.save(best_model.state_dict(), \"equi_nn.pth\")\n",
    "all_train_loss_mean = [j.mean() for j in all_train_loss]\n",
    "all_test_loss_mean = [j.mean() for j in all_test_loss]"
   ]
  },
  {
   "cell_type": "markdown",
   "id": "c6ed3fe3",
   "metadata": {
    "papermill": {
     "duration": 0.088846,
     "end_time": "2023-02-26T18:39:44.489827",
     "exception": false,
     "start_time": "2023-02-26T18:39:44.400981",
     "status": "completed"
    },
    "tags": []
   },
   "source": [
    "# Plotting Loss and Accuracy\n"
   ]
  },
  {
   "cell_type": "code",
   "execution_count": 15,
   "id": "63766ee9",
   "metadata": {
    "papermill": {
     "duration": 0.608392,
     "end_time": "2023-02-26T18:39:45.185365",
     "exception": false,
     "start_time": "2023-02-26T18:39:44.576973",
     "status": "completed"
    },
    "tags": []
   },
   "outputs": [
    {
     "data": {
      "text/plain": [
       "[<matplotlib.lines.Line2D at 0x7fb7f1e7d190>]"
      ]
     },
     "execution_count": 15,
     "metadata": {},
     "output_type": "execute_result"
    },
    {
     "data": {
      "image/png": "[encoded data removed]",
      "text/plain": [
       "<Figure size 1200x800 with 2 Axes>"
      ]
     },
     "metadata": {},
     "output_type": "display_data"
    }
   ],
   "source": [
    "figure = plt.figure(figsize=(12, 8))\n",
    "cols, rows = 2, 1\n",
    "figure.add_subplot(rows, cols, 1)\n",
    "plt.title(\"Train loss Mean\")\n",
    "plt.plot(all_train_loss_mean)\n",
    "figure.add_subplot(rows, cols, 2)\n",
    "plt.title(\"Test loss Mean\")\n",
    "plt.plot(all_test_loss_mean)"
   ]
  },
  {
   "cell_type": "markdown",
   "id": "71719fa2",
   "metadata": {
    "papermill": {
     "duration": 0.097537,
     "end_time": "2023-02-26T18:39:45.372772",
     "exception": false,
     "start_time": "2023-02-26T18:39:45.275235",
     "status": "completed"
    },
    "tags": []
   },
   "source": [
    "# Loading Best Model\n"
   ]
  },
  {
   "cell_type": "code",
   "execution_count": 17,
   "id": "d07b2629",
   "metadata": {
    "papermill": {
     "duration": 0.167712,
     "end_time": "2023-02-26T18:39:45.629158",
     "exception": false,
     "start_time": "2023-02-26T18:39:45.461446",
     "status": "completed"
    },
    "tags": []
   },
   "outputs": [
    {
     "name": "stderr",
     "output_type": "stream",
     "text": [
      "Downloading: \"https://download.pytorch.org/models/resnet50-0676ba61.pth\" to /root/.cache/torch/hub/checkpoints/resnet50-0676ba61.pth\n",
      "100%|█████████████████████████████████████████████████| 97.8M/97.8M [00:00<00:00, 288MB/s]\n"
     ]
    },
    {
     "data": {
      "text/plain": [
       "<All keys matched successfully>"
      ]
     },
     "execution_count": 17,
     "metadata": {},
     "output_type": "execute_result"
    }
   ],
   "source": [
    "model = torchvision.models.resnet50(pretrained=True)\n",
    "model.fc = torch.nn.Linear(2048, 1, bias=True)\n",
    "model = model.to(device)\n",
    "model.load_state_dict(torch.load(\"equi_nn.pth\"), strict=False)"
   ]
  },
  {
   "cell_type": "markdown",
   "id": "4e685329",
   "metadata": {
    "papermill": {
     "duration": 0.088101,
     "end_time": "2023-02-26T18:39:45.807045",
     "exception": false,
     "start_time": "2023-02-26T18:39:45.718944",
     "status": "completed"
    },
    "tags": []
   },
   "source": [
    "# Testing\n"
   ]
  },
  {
   "cell_type": "code",
   "execution_count": 18,
   "id": "0396ebf0",
   "metadata": {
    "papermill": {
     "duration": 0.313634,
     "end_time": "2023-02-26T18:39:52.237506",
     "exception": false,
     "start_time": "2023-02-26T18:39:51.923872",
     "status": "completed"
    },
    "tags": []
   },
   "outputs": [
    {
     "name": "stderr",
     "output_type": "stream",
     "text": [
      "100%|█████████████████████████████████████████████████████| 79/79 [00:08<00:00,  9.85it/s]"
     ]
    },
    {
     "name": "stdout",
     "output_type": "stream",
     "text": [
      "Average RMSE: 0.013090713091100319\n",
      "Average MSE: 0.0001732253662385695\n",
      "Average MAE: 0.010305513085538074\n"
     ]
    },
    {
     "name": "stderr",
     "output_type": "stream",
     "text": [
      "\n"
     ]
    }
   ],
   "source": [
    "import torch.nn.functional as F\n",
    "with torch.no_grad():\n",
    "    model.eval()\n",
    "    rmse_list = []\n",
    "    mse_list = []\n",
    "    mae_list = []\n",
    "    \n",
    "    for i, (x, y) in enumerate(tqdm(test_loader)):\n",
    "        x = x.to(device)\n",
    "        y = y.to(device)\n",
    "        _y = model(x)\n",
    "        \n",
    "        # Calculate metrics\n",
    "        rmse = torch.sqrt(F.mse_loss(_y, y))\n",
    "        mse = F.mse_loss(_y, y)\n",
    "        mae = F.l1_loss(_y, y)\n",
    "        \n",
    "        rmse_list.append(rmse.item())\n",
    "        mse_list.append(mse.item())\n",
    "        mae_list.append(mae.item())\n",
    "\n",
    "# Calculate overall metrics\n",
    "avg_rmse = np.mean(rmse_list)\n",
    "avg_mse = np.mean(mse_list)\n",
    "avg_mae = np.mean(mae_list)\n",
    "\n",
    "print(\"Average RMSE:\", avg_rmse)\n",
    "print(\"Average MSE:\", avg_mse)\n",
    "print(\"Average MAE:\", avg_mae)"
   ]
  }
 ],
 "metadata": {
  "kernelspec": {
   "display_name": "Python 3 (ipykernel)",
   "language": "python",
   "name": "python3"
  },
  "language_info": {
   "codemirror_mode": {
    "name": "ipython",
    "version": 3
   },
   "file_extension": ".py",
   "mimetype": "text/x-python",
   "name": "python",
   "nbconvert_exporter": "python",
   "pygments_lexer": "ipython3",
   "version": "3.11.5"
  },
  "papermill": {
   "default_parameters": {},
   "duration": 1183.333041,
   "end_time": "2023-02-26T18:39:54.458046",
   "environment_variables": {},
   "exception": null,
   "input_path": "__notebook__.ipynb",
   "output_path": "__notebook__.ipynb",
   "parameters": {},
   "start_time": "2023-02-26T18:20:11.125005",
   "version": "2.4.0"
  },
  "vscode": {
   "interpreter": {
    "hash": "916dbcbb3f70747c44a77c7bcd40155683ae19c65e1c03b4aa3499c5328201f1"
   }
  },
  "widgets": {
   "application/vnd.jupyter.widget-state+json": {
    "state": {
     "132e420ab09a4f2985090ea698d4cffe": {
      "model_module": "@jupyter-widgets/controls",
      "model_module_version": "2.0.0",
      "model_name": "HTMLStyleModel",
      "state": {
       "_model_module": "@jupyter-widgets/controls",
       "_model_module_version": "2.0.0",
       "_model_name": "HTMLStyleModel",
       "_view_count": null,
       "_view_module": "@jupyter-widgets/base",
       "_view_module_version": "2.0.0",
       "_view_name": "StyleView",
       "background": null,
       "description_width": "",
       "font_size": null,
       "text_color": null
      }
     },
     "1be52e09d8154b6c888f2236d05d3080": {
      "model_module": "@jupyter-widgets/base",
      "model_module_version": "2.0.0",
      "model_name": "LayoutModel",
      "state": {
       "_model_module": "@jupyter-widgets/base",
       "_model_module_version": "2.0.0",
       "_model_name": "LayoutModel",
       "_view_count": null,
       "_view_module": "@jupyter-widgets/base",
       "_view_module_version": "2.0.0",
       "_view_name": "LayoutView",
       "align_content": null,
       "align_items": null,
       "align_self": null,
       "border_bottom": null,
       "border_left": null,
       "border_right": null,
       "border_top": null,
       "bottom": null,
       "display": null,
       "flex": null,
       "flex_flow": null,
       "grid_area": null,
       "grid_auto_columns": null,
       "grid_auto_flow": null,
       "grid_auto_rows": null,
       "grid_column": null,
       "grid_gap": null,
       "grid_row": null,
       "grid_template_areas": null,
       "grid_template_columns": null,
       "grid_template_rows": null,
       "height": null,
       "justify_content": null,
       "justify_items": null,
       "left": null,
       "margin": null,
       "max_height": null,
       "max_width": null,
       "min_height": null,
       "min_width": null,
       "object_fit": null,
       "object_position": null,
       "order": null,
       "overflow": null,
       "padding": null,
       "right": null,
       "top": null,
       "visibility": null,
       "width": null
      }
     },
     "45aaa7737a5248fabf12687a808bc69e": {
      "model_module": "@jupyter-widgets/base",
      "model_module_version": "2.0.0",
      "model_name": "LayoutModel",
      "state": {
       "_model_module": "@jupyter-widgets/base",
       "_model_module_version": "2.0.0",
       "_model_name": "LayoutModel",
       "_view_count": null,
       "_view_module": "@jupyter-widgets/base",
       "_view_module_version": "2.0.0",
       "_view_name": "LayoutView",
       "align_content": null,
       "align_items": null,
       "align_self": null,
       "border_bottom": null,
       "border_left": null,
       "border_right": null,
       "border_top": null,
       "bottom": null,
       "display": null,
       "flex": null,
       "flex_flow": null,
       "grid_area": null,
       "grid_auto_columns": null,
       "grid_auto_flow": null,
       "grid_auto_rows": null,
       "grid_column": null,
       "grid_gap": null,
       "grid_row": null,
       "grid_template_areas": null,
       "grid_template_columns": null,
       "grid_template_rows": null,
       "height": null,
       "justify_content": null,
       "justify_items": null,
       "left": null,
       "margin": null,
       "max_height": null,
       "max_width": null,
       "min_height": null,
       "min_width": null,
       "object_fit": null,
       "object_position": null,
       "order": null,
       "overflow": null,
       "padding": null,
       "right": null,
       "top": null,
       "visibility": null,
       "width": null
      }
     },
     "4d7e51af07f94273855cc836fb236f2b": {
      "model_module": "@jupyter-widgets/controls",
      "model_module_version": "2.0.0",
      "model_name": "ProgressStyleModel",
      "state": {
       "_model_module": "@jupyter-widgets/controls",
       "_model_module_version": "2.0.0",
       "_model_name": "ProgressStyleModel",
       "_view_count": null,
       "_view_module": "@jupyter-widgets/base",
       "_view_module_version": "2.0.0",
       "_view_name": "StyleView",
       "bar_color": null,
       "description_width": ""
      }
     },
     "6421b7b051914856aaac31fa2d15cb96": {
      "model_module": "@jupyter-widgets/base",
      "model_module_version": "2.0.0",
      "model_name": "LayoutModel",
      "state": {
       "_model_module": "@jupyter-widgets/base",
       "_model_module_version": "2.0.0",
       "_model_name": "LayoutModel",
       "_view_count": null,
       "_view_module": "@jupyter-widgets/base",
       "_view_module_version": "2.0.0",
       "_view_name": "LayoutView",
       "align_content": null,
       "align_items": null,
       "align_self": null,
       "border_bottom": null,
       "border_left": null,
       "border_right": null,
       "border_top": null,
       "bottom": null,
       "display": null,
       "flex": null,
       "flex_flow": null,
       "grid_area": null,
       "grid_auto_columns": null,
       "grid_auto_flow": null,
       "grid_auto_rows": null,
       "grid_column": null,
       "grid_gap": null,
       "grid_row": null,
       "grid_template_areas": null,
       "grid_template_columns": null,
       "grid_template_rows": null,
       "height": null,
       "justify_content": null,
       "justify_items": null,
       "left": null,
       "margin": null,
       "max_height": null,
       "max_width": null,
       "min_height": null,
       "min_width": null,
       "object_fit": null,
       "object_position": null,
       "order": null,
       "overflow": null,
       "padding": null,
       "right": null,
       "top": null,
       "visibility": null,
       "width": null
      }
     },
     "67b355283047401cb2c9a2b61f50c7c7": {
      "model_module": "@jupyter-widgets/controls",
      "model_module_version": "2.0.0",
      "model_name": "HTMLModel",
      "state": {
       "_dom_classes": [],
       "_model_module": "@jupyter-widgets/controls",
       "_model_module_version": "2.0.0",
       "_model_name": "HTMLModel",
       "_view_count": null,
       "_view_module": "@jupyter-widgets/controls",
       "_view_module_version": "2.0.0",
       "_view_name": "HTMLView",
       "description": "",
       "description_allow_html": false,
       "layout": "IPY_MODEL_6421b7b051914856aaac31fa2d15cb96",
       "placeholder": "​",
       "style": "IPY_MODEL_132e420ab09a4f2985090ea698d4cffe",
       "tabbable": null,
       "tooltip": null,
       "value": "100%"
      }
     },
     "6ace9a2a8e25453989c46eff27c58809": {
      "model_module": "@jupyter-widgets/controls",
      "model_module_version": "2.0.0",
      "model_name": "HTMLStyleModel",
      "state": {
       "_model_module": "@jupyter-widgets/controls",
       "_model_module_version": "2.0.0",
       "_model_name": "HTMLStyleModel",
       "_view_count": null,
       "_view_module": "@jupyter-widgets/base",
       "_view_module_version": "2.0.0",
       "_view_name": "StyleView",
       "background": null,
       "description_width": "",
       "font_size": null,
       "text_color": null
      }
     },
     "7e4528fe69144d7da9673831473f9f7d": {
      "model_module": "@jupyter-widgets/controls",
      "model_module_version": "2.0.0",
      "model_name": "HTMLModel",
      "state": {
       "_dom_classes": [],
       "_model_module": "@jupyter-widgets/controls",
       "_model_module_version": "2.0.0",
       "_model_name": "HTMLModel",
       "_view_count": null,
       "_view_module": "@jupyter-widgets/controls",
       "_view_module_version": "2.0.0",
       "_view_name": "HTMLView",
       "description": "",
       "description_allow_html": false,
       "layout": "IPY_MODEL_ee339f315bfd4ce8a6eb907c72920334",
       "placeholder": "​",
       "style": "IPY_MODEL_6ace9a2a8e25453989c46eff27c58809",
       "tabbable": null,
       "tooltip": null,
       "value": " 44.7M/44.7M [00:00&lt;00:00, 121MB/s]"
      }
     },
     "7f6e37e8d3e04adfb28a76aae59d09be": {
      "model_module": "@jupyter-widgets/controls",
      "model_module_version": "2.0.0",
      "model_name": "FloatProgressModel",
      "state": {
       "_dom_classes": [],
       "_model_module": "@jupyter-widgets/controls",
       "_model_module_version": "2.0.0",
       "_model_name": "FloatProgressModel",
       "_view_count": null,
       "_view_module": "@jupyter-widgets/controls",
       "_view_module_version": "2.0.0",
       "_view_name": "ProgressView",
       "bar_style": "success",
       "description": "",
       "description_allow_html": false,
       "layout": "IPY_MODEL_45aaa7737a5248fabf12687a808bc69e",
       "max": 46830571,
       "min": 0,
       "orientation": "horizontal",
       "style": "IPY_MODEL_4d7e51af07f94273855cc836fb236f2b",
       "tabbable": null,
       "tooltip": null,
       "value": 46830571
      }
     },
     "ee339f315bfd4ce8a6eb907c72920334": {
      "model_module": "@jupyter-widgets/base",
      "model_module_version": "2.0.0",
      "model_name": "LayoutModel",
      "state": {
       "_model_module": "@jupyter-widgets/base",
       "_model_module_version": "2.0.0",
       "_model_name": "LayoutModel",
       "_view_count": null,
       "_view_module": "@jupyter-widgets/base",
       "_view_module_version": "2.0.0",
       "_view_name": "LayoutView",
       "align_content": null,
       "align_items": null,
       "align_self": null,
       "border_bottom": null,
       "border_left": null,
       "border_right": null,
       "border_top": null,
       "bottom": null,
       "display": null,
       "flex": null,
       "flex_flow": null,
       "grid_area": null,
       "grid_auto_columns": null,
       "grid_auto_flow": null,
       "grid_auto_rows": null,
       "grid_column": null,
       "grid_gap": null,
       "grid_row": null,
       "grid_template_areas": null,
       "grid_template_columns": null,
       "grid_template_rows": null,
       "height": null,
       "justify_content": null,
       "justify_items": null,
       "left": null,
       "margin": null,
       "max_height": null,
       "max_width": null,
       "min_height": null,
       "min_width": null,
       "object_fit": null,
       "object_position": null,
       "order": null,
       "overflow": null,
       "padding": null,
       "right": null,
       "top": null,
       "visibility": null,
       "width": null
      }
     },
     "fa9002ee0e1f433fa81eb0a3f30f6cc4": {
      "model_module": "@jupyter-widgets/controls",
      "model_module_version": "2.0.0",
      "model_name": "HBoxModel",
      "state": {
       "_dom_classes": [],
       "_model_module": "@jupyter-widgets/controls",
       "_model_module_version": "2.0.0",
       "_model_name": "HBoxModel",
       "_view_count": null,
       "_view_module": "@jupyter-widgets/controls",
       "_view_module_version": "2.0.0",
       "_view_name": "HBoxView",
       "box_style": "",
       "children": [
        "IPY_MODEL_67b355283047401cb2c9a2b61f50c7c7",
        "IPY_MODEL_7f6e37e8d3e04adfb28a76aae59d09be",
        "IPY_MODEL_7e4528fe69144d7da9673831473f9f7d"
       ],
       "layout": "IPY_MODEL_1be52e09d8154b6c888f2236d05d3080",
       "tabbable": null,
       "tooltip": null
      }
     }
    },
    "version_major": 2,
    "version_minor": 0
   }
  }
 },
 "nbformat": 4,
 "nbformat_minor": 5
}
